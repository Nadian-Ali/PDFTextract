{
 "cells": [
  {
   "cell_type": "code",
   "execution_count": 1,
   "id": "b63e8566-a461-4cd5-b146-f098226f8b5a",
   "metadata": {},
   "outputs": [],
   "source": [
    "from pdfminer.layout    import LAParams#, LTTextBox\n",
    "from pdfminer.pdfpage   import PDFPage\n",
    "from pdfminer.pdfinterp import PDFResourceManager\n",
    "from pdfminer.pdfinterp import PDFPageInterpreter\n",
    "from pdfminer.converter import PDFPageAggregator\n",
    "from pdfminer.converter import TextConverter\n",
    "from pdfminer.layout    import LTTextBoxHorizontal,LTTextLine,LTTextLineHorizontal,LTLine,LTRect,LTFigure\n",
    "from pdfminer.utils     import open_filename\n",
    "from io                 import StringIO\n",
    "\n",
    "import textdistance   \n",
    "import pandas as pd\n",
    "import warnings\n",
    "import pdfminer       \n",
    "import json\n",
    "\n",
    "import inspect\n",
    "import numpy as np\n",
    "import cv2 as cv\n",
    "import matplotlib.pyplot as plt\n",
    "# from utils.extract_pdf_elements import extract_pdf_elements"
   ]
  },
  {
   "cell_type": "code",
   "execution_count": 3,
   "id": "c54c3671-6ef4-4457-90bf-4ef734c8fbf6",
   "metadata": {},
   "outputs": [],
   "source": [
    "import spacy\n",
    "import re"
   ]
  },
  {
   "cell_type": "markdown",
   "id": "cba27a63-0041-43a1-9329-f02bd862432f",
   "metadata": {},
   "source": [
    "# Read PDF"
   ]
  },
  {
   "cell_type": "code",
   "execution_count": 4,
   "id": "d72a9933-a0d8-4151-88e1-8bd30122ad08",
   "metadata": {},
   "outputs": [
    {
     "name": "stdout",
     "output_type": "stream",
     "text": [
      "Processing page 44....\n"
     ]
    }
   ],
   "source": [
    "from utils.extract_pdf_elements import pdfDF\n",
    "columns = ['page','item','BBOX','text','size','sx','sy','ex','ey']\n",
    "pdf = 'hart3.pdf'\n",
    "PDF = pdfDF(pdf,columns)\n",
    "df = PDF.get_DF()"
   ]
  },
  {
   "cell_type": "code",
   "execution_count": 49,
   "id": "a77b8034-82b5-44fd-a164-710a686ac702",
   "metadata": {},
   "outputs": [],
   "source": [
    "nlp_ner = spacy.load(\"model4-best\")\n",
    "\n"
   ]
  },
  {
   "cell_type": "code",
   "execution_count": 50,
   "id": "121a5052-3f6f-4b0c-95cb-6909f67f1c3c",
   "metadata": {
    "tags": []
   },
   "outputs": [
    {
     "data": {
      "text/plain": [
       "'3.10(f) Has a decision been taken to apply for a liability order? 3.10(f) Not applicable 3.10(g) Has a liability order been granted? 3.10(g) Not applicable 3.10(h) Have any other enforcement measures been taken? 3.10(h) Not applicable 3.11 Conservation area Do the following apply in relation to the property? 3.11  3.11(a) the making of the area a Conservation Area before 31 August 1974; or 3.11(a) No 3.11(b) an unimplemented resolution to designate the area a Conservation Area? 3.11(b) No 3.12 Compulsory purchase Has any enforceable order or decision been made to compulsorily purchase or acquire the property? 3.12 No 3.13 Contaminated land Do any of the following apply (including any relating to land adjacent to or adjoining the property which has been identified as contaminated land because it is such a condition that harm or pollution of controlled waters might be caused on the property)? 3.13  3.13(a) a contaminated land notice; 3.13(a) No 3.13(b) in relation to a register maintained under section 78R of the Environmental Protection Act 1990:- (i) a decision to make an entry (ii) an entry 3.13(b) No 3.13(c) consultation with the owner or occupier of the property conducted under section 78G(3) of the Environmental Protection Act 1990 before the service of a remediation notice? 3.13(c) No 3.14 Radon gas Do records indicate that the property is in a \"Radon Affected Area\" as identified by Public Heath England or Public Health Wales? 3.14 No 3.15 Assets of Community Value 3.15  3.15(a) Has the property been nominated as an asset of community value? If so:- (i) Is it listed as an asset of community value? (ii) Was it excluded and placed on the \\'nominated but not listed\\' list? (iii) Has the listing expired? (iv) Is the Local Authority reviewing or proposing to review the listing? (v) Are there any subsisting appeals against the listing? 3.15(a) No 3.15(b) If the property is listed: (i) Has the local authority decided to apply to the Land Registry for an entry or cancellation of a restriction in respect of listed land affecting the property? (ii) Has the Local Authority received a notice of disposal? (iii) Has any community interest group requested to be treated as a bidder? 3.15(b) Not applicable 3.99 Extra information 3.99 None Page 28 of 39 Search Ref: 2022/00644 HART DISTRICT COUNCIL 05/10/2022 HARLINGTON WAY, FLEET, Enquirer Ref: HAMPSHIRE.  GU51 4AE '"
      ]
     },
     "execution_count": 50,
     "metadata": {},
     "output_type": "execute_result"
    }
   ],
   "source": [
    "df23 = df.query(f\"page==28 and item=='LTTextLineHorizontal'\")\n",
    "df23.drop_duplicates(subset=['text'])\n",
    "df23 = df23.sort_values(by=['sy', 'sx'],ascending = [False,True])\n",
    "page_string = ''\n",
    "for idx,line in df23.iterrows():\n",
    "    # print(line['text'])\n",
    "    page_string = page_string + line['text'] + ' '\n",
    "\n",
    "page_string"
   ]
  },
  {
   "cell_type": "markdown",
   "id": "26a824ae-fb20-4fee-9731-0afd772542e8",
   "metadata": {},
   "source": [
    "## Display labels"
   ]
  },
  {
   "cell_type": "code",
   "execution_count": 51,
   "id": "9381e741-cf38-4da4-ab64-cfc56fd33c1a",
   "metadata": {},
   "outputs": [
    {
     "name": "stdout",
     "output_type": "stream",
     "text": [
      "sdd sample string\n"
     ]
    }
   ],
   "source": [
    "\n",
    "a1 = 'sdd\" sample string'\n",
    "a1 = re.sub('\"', '',a1)\n",
    "text = re.sub('[.(?)-]', '',a1)\n",
    "# a2 = a1.lstrip('\\\"')\n",
    "print(text)      \n",
    " "
   ]
  },
  {
   "cell_type": "code",
   "execution_count": 52,
   "id": "6abc7bf1-cedb-4cc9-912b-10c2e747ce7d",
   "metadata": {},
   "outputs": [
    {
     "data": {
      "text/html": [
       "<span class=\"tex2jax_ignore\"><div class=\"entities\" style=\"line-height: 2.5; direction: ltr\">\n",
       "<mark class=\"entity\" style=\"background: #ddd; padding: 0.45em 0.6em; margin: 0 0.25em; line-height: 1; border-radius: 0.35em;\">\n",
       "    310f Has a decision been taken to apply for a liability order\n",
       "    <span style=\"font-size: 0.8em; font-weight: bold; line-height: 1; border-radius: 0.35em; vertical-align: middle; margin-left: 0.5rem\">3.10F_QUESTION</span>\n",
       "</mark>\n",
       " 310f Not applicable \n",
       "<mark class=\"entity\" style=\"background: #ddd; padding: 0.45em 0.6em; margin: 0 0.25em; line-height: 1; border-radius: 0.35em;\">\n",
       "    310g Has a liability order been granted\n",
       "    <span style=\"font-size: 0.8em; font-weight: bold; line-height: 1; border-radius: 0.35em; vertical-align: middle; margin-left: 0.5rem\">3.10G_QUESTION</span>\n",
       "</mark>\n",
       " 310g Not applicable \n",
       "<mark class=\"entity\" style=\"background: #ddd; padding: 0.45em 0.6em; margin: 0 0.25em; line-height: 1; border-radius: 0.35em;\">\n",
       "    310h Have any other enforcement measures been taken\n",
       "    <span style=\"font-size: 0.8em; font-weight: bold; line-height: 1; border-radius: 0.35em; vertical-align: middle; margin-left: 0.5rem\">3.10H_QUESTION</span>\n",
       "</mark>\n",
       " 310h Not applicable \n",
       "<mark class=\"entity\" style=\"background: #ddd; padding: 0.45em 0.6em; margin: 0 0.25em; line-height: 1; border-radius: 0.35em;\">\n",
       "    311 Conservation area Do the following apply in relation to the property\n",
       "    <span style=\"font-size: 0.8em; font-weight: bold; line-height: 1; border-radius: 0.35em; vertical-align: middle; margin-left: 0.5rem\">3.11_QUESTION</span>\n",
       "</mark>\n",
       " 311  311a the making of the area a Conservation Area before 31 August 1974; or 311a No 311b an unimplemented resolution to designate the area a Conservation Area 311b No 312 Compulsory purchase Has any enforceable order or decision been made to compulsorily purchase or acquire the property 312 No 313 Contaminated land Do any of the following apply including any relating to land adjacent to or adjoining the property which has been identified as contaminated land because it is such a condition that harm or pollution of controlled waters might be caused on the property 313  313a a contaminated land notice; 313a No 313b in relation to a register maintained under section 78R of the Environmental Protection Act 1990: i a decision to make an entry ii an entry 313b No 313c consultation with the owner or occupier of the property conducted under section 78G3 of the Environmental Protection Act 1990 before the service of a remediation notice 313c No 314 Radon gas Do records indicate that the property is in a &quot;Radon Affected Area&quot; as identified by Public Heath England or Public Health Wales 314 No 315 Assets of Community Value 315  315a Has the property been nominated as an asset of community value If so: i Is it listed as an asset of community value ii Was it excluded and placed on the 'nominated but not listed' list iii Has the listing expired iv Is the Local Authority reviewing or proposing to review the listing v Are there any subsisting appeals against the listing 315a No 315b If the property is listed: i Has the local authority decided to apply to the Land Registry for an entry or cancellation of a restriction in respect of listed land affecting the property ii Has the Local Authority received a notice of disposal iii Has any community interest group requested to be treated as a bidder 315b Not applicable 399 Extra information 399 None Page 28 of 39 Search Ref: 2022/00644 HART DISTRICT COUNCIL 05/10/2022 HARLINGTON WAY, FLEET, Enquirer Ref: HAMPSHIRE  GU51 4AE </div></span>"
      ],
      "text/plain": [
       "<IPython.core.display.HTML object>"
      ]
     },
     "metadata": {},
     "output_type": "display_data"
    }
   ],
   "source": [
    "text = re.sub('[.(?)-]', '', page_string)\n",
    "a1 = re.sub('\"', '',a1)\n",
    "# print(line)\n",
    "colors = {\"1.1_QUESTION\": \"#F67DE3\", \"1.1A_QUESTION\": \"#7DF6D9\", \"MEDICALCONDITION\":\"#FFFFFF\"}\n",
    "options = {\"colors\": colors} \n",
    "\n",
    "doc = nlp_ner(text)\n",
    "\n",
    "spacy.displacy.render(doc, style=\"ent\", options= options, jupyter=True)"
   ]
  },
  {
   "cell_type": "markdown",
   "id": "a600fb16-1d0f-46da-b7dc-dc9cd77acc08",
   "metadata": {},
   "source": [
    "## Access entity information "
   ]
  },
  {
   "cell_type": "code",
   "execution_count": 43,
   "id": "8a29c54d-e6ac-48a1-b3c9-e77c547e22c1",
   "metadata": {},
   "outputs": [
    {
     "name": "stdout",
     "output_type": "stream",
     "text": [
      "108 621 679 309f another notice relating to breach of planning control 3.9F_QUESTION\n",
      "119 688 725 309g a listed building repairs notice 3.9G_QUESTION\n",
      "129 734 886 309h in the case of a listed building deliberately allowed to fall into disrepair, a compulsory purchase order with a direction for minimum compensation 3.9H_QUESTION\n",
      "157 896 931 309i a building preservation notice 3.9I_QUESTION\n",
      "164 940 990 309j a direction restricting permitted development 3.9J_QUESTION\n",
      "172 999 1056 309k an order revoking or modifying a planning permission 3.9K_QUESTION\n",
      "183 1065 1157 309l an order requiring discontinuance of use or alterations or removal of building or works 3.9L_QUESTION\n",
      "201 1167 1199 309m tree preservation order; or 3.9M_QUESTION\n",
      "211 1208 1281 309n proceedings to enforce a planning agreement or planning contribution 3.9N_QUESTION\n",
      "223 1290 1327 310 Community Infrastructure Levy CIL 3.10_QUESTION\n",
      "230 1333 1370 310a Is there a CIL charging schedule 3.10A_QUESTION\n",
      "239 1379 1540 310b If yes, do any of the following subsist in relation to the property, or has a local authority decided to issue, serve, make or commence any of the following 3.10B_QUESTION\n",
      "274 1542 1562 i a liability notice 3.10BI_QUESTION\n",
      "278 1563 1600 ii a notice of chargeable development 3.10BII_QUESTION\n",
      "284 1601 1620 iii a demand notice 3.10BIII_QUESTION\n",
      "288 1621 1650 iv a default liability notice 3.10BIV_QUESTION\n",
      "293 1651 1673 v an assumption notice 3.10BV_QUESTION\n",
      "297 1674 1698 vi a commencement notice 3.10BVI_QUESTION\n",
      "304 1719 1760 310c Has any demand notice been suspended 3.10C_QUESTION\n",
      "314 1781 1860 310d Has the local authority received full or part payment of any CIL liability 3.10D_QUESTION\n",
      "331 1881 1954 310e Has the local authority received any appeal against any of the above 3.10E_QUESTION\n"
     ]
    }
   ],
   "source": [
    "for ent in doc.ents: \n",
    "    print(ent.start,ent.start_char,ent.end_char,ent.text,ent.label_)"
   ]
  },
  {
   "cell_type": "code",
   "execution_count": null,
   "id": "0f8be5a5-b24c-4159-802b-3fe4ee6d1cc6",
   "metadata": {},
   "outputs": [],
   "source": []
  },
  {
   "cell_type": "code",
   "execution_count": null,
   "id": "d8afeb38-3fbf-437c-95b1-74881e484d03",
   "metadata": {},
   "outputs": [],
   "source": []
  },
  {
   "cell_type": "code",
   "execution_count": null,
   "id": "76414cad-995c-4efc-b751-1d52a83410f1",
   "metadata": {},
   "outputs": [],
   "source": []
  },
  {
   "cell_type": "markdown",
   "id": "a5c05efb-87f5-4e9a-9209-0c96ad9efce5",
   "metadata": {},
   "source": [
    "# Detect entities in text boxes"
   ]
  },
  {
   "cell_type": "markdown",
   "id": "c3ef99ad-1b51-4bbe-8d86-7b2ee4c42cb0",
   "metadata": {},
   "source": [
    "## load models"
   ]
  },
  {
   "cell_type": "code",
   "execution_count": 52,
   "id": "6b983921-ba23-4eb1-a554-8b48ef7f0732",
   "metadata": {},
   "outputs": [],
   "source": [
    "nlp_ner1 = spacy.load(\"model1-best\")\n",
    "nlp_ner2 = spacy.load(\"model2-best\")\n",
    "nlp_ner3 = spacy.load(\"model3-best\")\n",
    "nlp_ner4 = spacy.load(\"model4-best\")\n",
    "\n"
   ]
  },
  {
   "cell_type": "code",
   "execution_count": null,
   "id": "0bfcbb67-f934-4a89-bcba-9afbc90753ef",
   "metadata": {},
   "outputs": [],
   "source": []
  },
  {
   "cell_type": "markdown",
   "id": "f0083e3d-d2d2-4ab5-adb6-cbdf171eb2cf",
   "metadata": {},
   "source": [
    "## Get PDF"
   ]
  },
  {
   "cell_type": "code",
   "execution_count": 46,
   "id": "a23b12a4-3933-487e-b5a8-0e63ad6aa75b",
   "metadata": {},
   "outputs": [
    {
     "name": "stdout",
     "output_type": "stream",
     "text": [
      "Processing page 44....\n"
     ]
    }
   ],
   "source": [
    "from utils.extract_pdf_elements import pdfDF\n",
    "columns = ['page','item','BBOX','text','size','sx','sy','ex','ey','tag','parenttag']\n",
    "pdf = 'hart3.pdf'\n",
    "PDF = pdfDF(pdf,columns)\n",
    "df = PDF.get_DF()"
   ]
  },
  {
   "cell_type": "code",
   "execution_count": 47,
   "id": "969c4ccd-12ff-4b34-bccd-b9616cf567d7",
   "metadata": {},
   "outputs": [
    {
     "data": {
      "text/html": [
       "<div>\n",
       "<style scoped>\n",
       "    .dataframe tbody tr th:only-of-type {\n",
       "        vertical-align: middle;\n",
       "    }\n",
       "\n",
       "    .dataframe tbody tr th {\n",
       "        vertical-align: top;\n",
       "    }\n",
       "\n",
       "    .dataframe thead th {\n",
       "        text-align: right;\n",
       "    }\n",
       "</style>\n",
       "<table border=\"1\" class=\"dataframe\">\n",
       "  <thead>\n",
       "    <tr style=\"text-align: right;\">\n",
       "      <th></th>\n",
       "      <th>page</th>\n",
       "      <th>item</th>\n",
       "      <th>BBOX</th>\n",
       "      <th>text</th>\n",
       "      <th>size</th>\n",
       "      <th>sx</th>\n",
       "      <th>sy</th>\n",
       "      <th>ex</th>\n",
       "      <th>ey</th>\n",
       "      <th>tag</th>\n",
       "      <th>parenttag</th>\n",
       "    </tr>\n",
       "  </thead>\n",
       "  <tbody>\n",
       "    <tr>\n",
       "      <th>0</th>\n",
       "      <td>1</td>\n",
       "      <td>LTTextBoxHorizontal</td>\n",
       "      <td>(185.20000000000002, 623.983, 395.432000000000...</td>\n",
       "      <td>REGISTER  OF LOCAL LAND CHARGES\\nOFFICIAL CERT...</td>\n",
       "      <td>[0, 0, 595, 841]</td>\n",
       "      <td>185.2</td>\n",
       "      <td>623.983</td>\n",
       "      <td>395.432</td>\n",
       "      <td>649.883</td>\n",
       "      <td>9d8e2930-4572-4539-89b3-9594a1a9fe3f</td>\n",
       "      <td>NaN</td>\n",
       "    </tr>\n",
       "  </tbody>\n",
       "</table>\n",
       "</div>"
      ],
      "text/plain": [
       "  page                 item  \\\n",
       "0    1  LTTextBoxHorizontal   \n",
       "\n",
       "                                                BBOX  \\\n",
       "0  (185.20000000000002, 623.983, 395.432000000000...   \n",
       "\n",
       "                                                text              size     sx  \\\n",
       "0  REGISTER  OF LOCAL LAND CHARGES\\nOFFICIAL CERT...  [0, 0, 595, 841]  185.2   \n",
       "\n",
       "        sy       ex       ey                                   tag parenttag  \n",
       "0  623.983  395.432  649.883  9d8e2930-4572-4539-89b3-9594a1a9fe3f       NaN  "
      ]
     },
     "execution_count": 47,
     "metadata": {},
     "output_type": "execute_result"
    }
   ],
   "source": [
    "df.head(1)"
   ]
  },
  {
   "cell_type": "code",
   "execution_count": 58,
   "id": "bb6850b5-383b-4eca-a6fc-a0de35abf9c9",
   "metadata": {},
   "outputs": [],
   "source": [
    "page = 12 \n",
    "\n",
    "DF = df.query(f\"page=={page} and item=='LTTextBoxHorizontal'\")\n",
    "DF = DF.drop_duplicates(subset=['text'])\n"
   ]
  },
  {
   "cell_type": "code",
   "execution_count": 66,
   "id": "e332db4e-9311-469e-ac4e-78ae5be4cd6d",
   "metadata": {},
   "outputs": [
    {
     "name": "stdout",
     "output_type": "stream",
     "text": [
      "1344\n",
      "1347\n",
      "1349\n",
      "1351\n",
      "1353\n",
      "1355\n",
      "1357\n",
      "1359\n",
      "1361\n",
      "1369\n",
      "1375\n",
      "1382\n",
      "1385\n",
      "1388\n",
      "1390\n",
      "1393\n",
      "1395\n",
      "1397\n",
      "1399\n",
      "1401\n",
      "1403\n",
      "1405\n",
      "1407\n",
      "1409\n",
      "1415\n",
      "1422\n",
      "1425\n",
      "1428\n",
      "1431\n",
      "1433\n",
      "1435\n",
      "1437\n",
      "1439\n",
      "1441\n",
      "1443\n",
      "1445\n",
      "1447\n",
      "1450\n",
      "1456\n",
      "1463\n",
      "1466\n",
      "1469\n",
      "1473\n",
      "1475\n",
      "1477\n",
      "1479\n",
      "1481\n"
     ]
    }
   ],
   "source": [
    "for idx,row  in  DF.iterrows() :\n",
    "    doc1 = nlp_ner(text)\n",
    "    print(idx)"
   ]
  },
  {
   "cell_type": "code",
   "execution_count": null,
   "id": "84ece6f0-58f8-4fde-bb41-8ef225d16c84",
   "metadata": {},
   "outputs": [],
   "source": []
  },
  {
   "cell_type": "code",
   "execution_count": null,
   "id": "ca8d2860-3572-4dcb-b4d7-0812f26767e6",
   "metadata": {},
   "outputs": [],
   "source": []
  },
  {
   "cell_type": "code",
   "execution_count": null,
   "id": "c38dc0fd-43e3-4cf1-93f4-0a52312135d6",
   "metadata": {},
   "outputs": [],
   "source": []
  },
  {
   "cell_type": "code",
   "execution_count": null,
   "id": "de4d58da-6599-4de2-b4a5-b231e748ab53",
   "metadata": {},
   "outputs": [],
   "source": []
  },
  {
   "cell_type": "code",
   "execution_count": null,
   "id": "9f1a6158-3eb7-4f96-aaa0-f4f110188649",
   "metadata": {},
   "outputs": [],
   "source": []
  }
 ],
 "metadata": {
  "kernelspec": {
   "display_name": "Python 3 (ipykernel)",
   "language": "python",
   "name": "python3"
  },
  "language_info": {
   "codemirror_mode": {
    "name": "ipython",
    "version": 3
   },
   "file_extension": ".py",
   "mimetype": "text/x-python",
   "name": "python",
   "nbconvert_exporter": "python",
   "pygments_lexer": "ipython3",
   "version": "3.10.8"
  }
 },
 "nbformat": 4,
 "nbformat_minor": 5
}
