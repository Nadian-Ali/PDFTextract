{
 "cells": [
  {
   "cell_type": "code",
   "execution_count": null,
   "id": "839fd7d4-24c7-4480-a0f3-e6b4bcd6b222",
   "metadata": {},
   "outputs": [],
   "source": [
    "!conda install -c conda-forge poppler"
   ]
  },
  {
   "cell_type": "code",
   "execution_count": 1,
   "id": "d81c458d-a56d-402a-95bc-2addf3b3815a",
   "metadata": {},
   "outputs": [],
   "source": [
    "import os\n",
    "import pandas as pd\n",
    "from datetime import datetime\n",
    "import fitz\n",
    "import cv2\n",
    "import matplotlib.pyplot as plt\n",
    "import numpy as np"
   ]
  },
  {
   "cell_type": "code",
   "execution_count": 10,
   "id": "1aa317db-2902-4b2c-9804-be1993775da8",
   "metadata": {},
   "outputs": [],
   "source": [
    "from IPython.display import clear_output"
   ]
  },
  {
   "cell_type": "markdown",
   "id": "1c6ea5ca-edc4-4450-b4af-dc713e1ee939",
   "metadata": {},
   "source": [
    "# Extract PDF folder names\n"
   ]
  },
  {
   "cell_type": "markdown",
   "id": "604c6a73-930c-4820-b31b-6c9360287b2b",
   "metadata": {},
   "source": [
    "## Walk thorough the LA folders"
   ]
  },
  {
   "cell_type": "code",
   "execution_count": 13,
   "id": "d509b0bb-0dc8-4706-8714-5ae60f12f032",
   "metadata": {},
   "outputs": [],
   "source": [
    "%%capture\n",
    "import os\n",
    "\n",
    "root = 'D:\\Phoenix\\LA Data From Phoenix'\n",
    "count = 0\n",
    "everything = list(os.walk(root, topdown=True))\n",
    "root = everything[0][0]\n",
    "LA_names = everything[0][1]\n",
    "everything.pop(0) #### this will alwasy pop the first element / use wisely\n"
   ]
  },
  {
   "cell_type": "code",
   "execution_count": null,
   "id": "4cc6750d-f9ca-481e-8f07-ba8770084287",
   "metadata": {},
   "outputs": [],
   "source": []
  },
  {
   "cell_type": "code",
   "execution_count": null,
   "id": "8143ddbe-0cfe-416f-985e-0dbff6103253",
   "metadata": {},
   "outputs": [],
   "source": [
    "everything[3]"
   ]
  },
  {
   "cell_type": "markdown",
   "id": "ea0f832b-ba87-4230-866f-b6f27821a532",
   "metadata": {},
   "source": [
    "## Create the data frames"
   ]
  },
  {
   "cell_type": "code",
   "execution_count": 3,
   "id": "282770d2-25a6-4a7a-a63a-9640404a8546",
   "metadata": {},
   "outputs": [],
   "source": [
    "import pandas as pd\n",
    "\n",
    "columns = ['LA_name','PDF_name','LA_path']\n",
    "LA_info = pd.DataFrame(columns = columns)\n",
    "for item in  everything:\n",
    "    \n",
    "    LA_name = os.path.split(item[0])[1]\n",
    "    LA_Path = os.path.split(item[0])[0]\n",
    "    # break\n",
    "    for pdf in item[2]:\n",
    "        # print(pdf)\n",
    "        temp_df = pd.DataFrame(columns = columns, data =[[LA_name,pdf,LA_Path]])\n",
    "        LA_info = pd.concat([LA_info,temp_df],ignore_index= True)\n",
    "LA_info.to_csv('LA_info.csv')"
   ]
  },
  {
   "cell_type": "code",
   "execution_count": null,
   "id": "b1a4cec1-fa8d-4b3d-9459-e9a85f4c410a",
   "metadata": {},
   "outputs": [],
   "source": []
  },
  {
   "cell_type": "markdown",
   "id": "28acaf55-95bb-40c4-968c-2ca034eafcbf",
   "metadata": {},
   "source": [
    "# Functions "
   ]
  },
  {
   "cell_type": "code",
   "execution_count": 49,
   "id": "8eefd765-5aa3-491e-a941-474d1f68cc06",
   "metadata": {},
   "outputs": [],
   "source": [
    "import pandas as pd\n",
    "from datetime import datetime\n",
    "\n",
    "\n",
    "def get_LA_DataFrame(root='D:\\Phoenix\\LA Data From Phoenix'):\n",
    "    everything = list(os.walk(root, topdown=True))\n",
    "    root = everything[0][0]\n",
    "    LA_names = everything[0][1]\n",
    "    everything.pop(0) #### this will alwasy pop the first element / use wisely\n",
    "    columns = ['LA_name','PDF_name','LA_path']    \n",
    "    LA_info = pd.DataFrame(columns = columns)\n",
    "    for item in  everything:\n",
    "        LA_name = os.path.split(item[0])[1]\n",
    "        LA_Path = os.path.split(item[0])[0]\n",
    "        for pdf in item[2]:\n",
    "            # print(pdf)\n",
    "            temp_df = pd.DataFrame(columns = columns, data =[[LA_name,pdf,LA_Path]])\n",
    "            LA_info = pd.concat([LA_info,temp_df],ignore_index= True)\n",
    "    return LA_info\n",
    "\n",
    "def get_specific_LA_DataFrame(root='D:\\Phoenix\\LA Data From Phoenix\\Amber Valley Borough Council'):\n",
    "\n",
    "    everything = list(os.walk(root, topdown=True))\n",
    "    everything[0][0]\n",
    "\n",
    "    root = everything[0][0]\n",
    "    LA_names = everything[0][2]\n",
    "    # everything.pop(0) #### this will alwasy pop the first element / use wisely\n",
    "    columns = ['LA_name','PDF_name','LA_path']    \n",
    "    LA_info = pd.DataFrame(columns = columns)\n",
    "    for item in  everything:\n",
    "        LA_name = os.path.split(item[0])[1]\n",
    "        LA_Path = os.path.split(item[0])[0]\n",
    "        for pdf in item[2]:\n",
    "            # print(pdf)\n",
    "            temp_df = pd.DataFrame(columns = columns, data =[[LA_name,pdf,LA_Path]])\n",
    "            LA_info = pd.concat([LA_info,temp_df],ignore_index= True)\n",
    "    return LA_info\n",
    "\n",
    "def pdfimage2np(pix):\n",
    "    im = np.frombuffer(pix.samples, dtype=np.uint8).reshape(pix.h, pix.w, pix.n)\n",
    "    im = np.ascontiguousarray(im[..., [2, 1, 0]])  # rgb to bgr\n",
    "    return im\n",
    "\n",
    "\n",
    "def pix2np(pix):\n",
    "    im = np.frombuffer(pix.samples, dtype=np.uint8).reshape(pix.h, pix.w, pix.n)\n",
    "    im = np.ascontiguousarray(im[..., [2, 1, 0]])  # rgb to bgr\n",
    "    return im\n",
    "\n",
    "\n",
    "def write_pdf_iamges(doc,path,pdf_name,dim = (512,512)):\n",
    "    \"\"\"\n",
    "    path[0]=root_dir\n",
    "    path[1]=LA_name\n",
    "    page\n",
    "    path[2]=pdf_name\n",
    "    \"\"\"\n",
    "    \n",
    "    for page in range(doc.page_count):    \n",
    "        pix     = doc.get_page_pixmap(page, alpha=False)\n",
    "        im      = pix2np(pix)\n",
    "        im      = cv2.resize(im, dim, interpolation = cv2.INTER_AREA)\n",
    "        name   = pdf_name + 'page' + str(page) +  '.png' \n",
    "        p = os.path.join(path,name)\n",
    "        cv2.imwrite(p,im)"
   ]
  },
  {
   "cell_type": "code",
   "execution_count": null,
   "id": "78638800-3ba7-4e6c-8adf-300247fc8ad7",
   "metadata": {
    "tags": []
   },
   "outputs": [],
   "source": [
    "# select all LAs\n",
    "df_LA = get_LA_DataFrame(root='D:\\Phoenix\\LA Data From Phoenix')"
   ]
  },
  {
   "cell_type": "code",
   "execution_count": 43,
   "id": "474d084b-0d7d-40db-972b-8563e402c005",
   "metadata": {
    "tags": []
   },
   "outputs": [],
   "source": [
    "# select specific LA\n",
    "df_LA = get_specific_LA_DataFrame(root='D:\\Phoenix\\LA Data From Phoenix\\Ashford Borough Council')"
   ]
  },
  {
   "cell_type": "code",
   "execution_count": 94,
   "id": "5adf555d-836d-405c-a633-44dcab23ab26",
   "metadata": {},
   "outputs": [
    {
     "data": {
      "text/html": [
       "<div>\n",
       "<style scoped>\n",
       "    .dataframe tbody tr th:only-of-type {\n",
       "        vertical-align: middle;\n",
       "    }\n",
       "\n",
       "    .dataframe tbody tr th {\n",
       "        vertical-align: top;\n",
       "    }\n",
       "\n",
       "    .dataframe thead th {\n",
       "        text-align: right;\n",
       "    }\n",
       "</style>\n",
       "<table border=\"1\" class=\"dataframe\">\n",
       "  <thead>\n",
       "    <tr style=\"text-align: right;\">\n",
       "      <th></th>\n",
       "      <th>LA_name</th>\n",
       "      <th>PDF_name</th>\n",
       "      <th>LA_path</th>\n",
       "    </tr>\n",
       "  </thead>\n",
       "  <tbody>\n",
       "    <tr>\n",
       "      <th>0</th>\n",
       "      <td>Amber Valley Borough Council</td>\n",
       "      <td>CON29_LLC1LocalAuthoritySearch_09-09-19-11-09-...</td>\n",
       "      <td>D:\\Phoenix\\LA Data From Phoenix</td>\n",
       "    </tr>\n",
       "    <tr>\n",
       "      <th>1</th>\n",
       "      <td>Amber Valley Borough Council</td>\n",
       "      <td>CON29_LLC1LocalAuthoritySearch_09-09-19-11-09-...</td>\n",
       "      <td>D:\\Phoenix\\LA Data From Phoenix</td>\n",
       "    </tr>\n",
       "    <tr>\n",
       "      <th>2</th>\n",
       "      <td>Amber Valley Borough Council</td>\n",
       "      <td>CON29_LLC1LocalAuthoritySearch_12-02-20-15-02-...</td>\n",
       "      <td>D:\\Phoenix\\LA Data From Phoenix</td>\n",
       "    </tr>\n",
       "    <tr>\n",
       "      <th>3</th>\n",
       "      <td>Amber Valley Borough Council</td>\n",
       "      <td>CON29_LLC1LocalAuthoritySearch_12-02-20-15-02-...</td>\n",
       "      <td>D:\\Phoenix\\LA Data From Phoenix</td>\n",
       "    </tr>\n",
       "    <tr>\n",
       "      <th>4</th>\n",
       "      <td>Amber Valley Borough Council</td>\n",
       "      <td>CON29_LLC1LocalAuthoritySearch_12-02-20-15-02-...</td>\n",
       "      <td>D:\\Phoenix\\LA Data From Phoenix</td>\n",
       "    </tr>\n",
       "    <tr>\n",
       "      <th>...</th>\n",
       "      <td>...</td>\n",
       "      <td>...</td>\n",
       "      <td>...</td>\n",
       "    </tr>\n",
       "    <tr>\n",
       "      <th>191</th>\n",
       "      <td>Vale of Glamorgan Council</td>\n",
       "      <td>CON29_LLC1LocalAuthoritySearch_13-10-20-11-10-...</td>\n",
       "      <td>D:\\Phoenix\\LA Data From Phoenix</td>\n",
       "    </tr>\n",
       "    <tr>\n",
       "      <th>192</th>\n",
       "      <td>Vale of Glamorgan Council</td>\n",
       "      <td>CON29_LLC1LocalAuthoritySearch_13-10-20-11-10-...</td>\n",
       "      <td>D:\\Phoenix\\LA Data From Phoenix</td>\n",
       "    </tr>\n",
       "    <tr>\n",
       "      <th>193</th>\n",
       "      <td>Vale of Glamorgan Council</td>\n",
       "      <td>CON29_LLC1LocalAuthoritySearch_13-10-20-16-10-...</td>\n",
       "      <td>D:\\Phoenix\\LA Data From Phoenix</td>\n",
       "    </tr>\n",
       "    <tr>\n",
       "      <th>194</th>\n",
       "      <td>Vale of Glamorgan Council</td>\n",
       "      <td>CON29_LLC1LocalAuthoritySearch_13-10-20-16-10-...</td>\n",
       "      <td>D:\\Phoenix\\LA Data From Phoenix</td>\n",
       "    </tr>\n",
       "    <tr>\n",
       "      <th>195</th>\n",
       "      <td>Vale of Glamorgan Council</td>\n",
       "      <td>CON29_LLC1LocalAuthoritySearch_23-10-20-17-10-...</td>\n",
       "      <td>D:\\Phoenix\\LA Data From Phoenix</td>\n",
       "    </tr>\n",
       "  </tbody>\n",
       "</table>\n",
       "<p>196 rows × 3 columns</p>\n",
       "</div>"
      ],
      "text/plain": [
       "                          LA_name  \\\n",
       "0    Amber Valley Borough Council   \n",
       "1    Amber Valley Borough Council   \n",
       "2    Amber Valley Borough Council   \n",
       "3    Amber Valley Borough Council   \n",
       "4    Amber Valley Borough Council   \n",
       "..                            ...   \n",
       "191     Vale of Glamorgan Council   \n",
       "192     Vale of Glamorgan Council   \n",
       "193     Vale of Glamorgan Council   \n",
       "194     Vale of Glamorgan Council   \n",
       "195     Vale of Glamorgan Council   \n",
       "\n",
       "                                              PDF_name  \\\n",
       "0    CON29_LLC1LocalAuthoritySearch_09-09-19-11-09-...   \n",
       "1    CON29_LLC1LocalAuthoritySearch_09-09-19-11-09-...   \n",
       "2    CON29_LLC1LocalAuthoritySearch_12-02-20-15-02-...   \n",
       "3    CON29_LLC1LocalAuthoritySearch_12-02-20-15-02-...   \n",
       "4    CON29_LLC1LocalAuthoritySearch_12-02-20-15-02-...   \n",
       "..                                                 ...   \n",
       "191  CON29_LLC1LocalAuthoritySearch_13-10-20-11-10-...   \n",
       "192  CON29_LLC1LocalAuthoritySearch_13-10-20-11-10-...   \n",
       "193  CON29_LLC1LocalAuthoritySearch_13-10-20-16-10-...   \n",
       "194  CON29_LLC1LocalAuthoritySearch_13-10-20-16-10-...   \n",
       "195  CON29_LLC1LocalAuthoritySearch_23-10-20-17-10-...   \n",
       "\n",
       "                             LA_path  \n",
       "0    D:\\Phoenix\\LA Data From Phoenix  \n",
       "1    D:\\Phoenix\\LA Data From Phoenix  \n",
       "2    D:\\Phoenix\\LA Data From Phoenix  \n",
       "3    D:\\Phoenix\\LA Data From Phoenix  \n",
       "4    D:\\Phoenix\\LA Data From Phoenix  \n",
       "..                               ...  \n",
       "191  D:\\Phoenix\\LA Data From Phoenix  \n",
       "192  D:\\Phoenix\\LA Data From Phoenix  \n",
       "193  D:\\Phoenix\\LA Data From Phoenix  \n",
       "194  D:\\Phoenix\\LA Data From Phoenix  \n",
       "195  D:\\Phoenix\\LA Data From Phoenix  \n",
       "\n",
       "[196 rows x 3 columns]"
      ]
     },
     "execution_count": 94,
     "metadata": {},
     "output_type": "execute_result"
    }
   ],
   "source": [
    "tabular_LA = ['Amber Valley Borough Council',\n",
    "'Ashford Borough Council',\n",
    "'Barrow-in-Furness Borough Council',\n",
    "'Blackburn with Darwen Borough Council',\n",
    "'Cheshire East Council (Unitary)',\n",
    "'City of London',\n",
    "'Denbighshire County Council',\n",
    "'Eden District Council/ExPk',\n",
    "'Flintshire Council',\n",
    "'Guildford Borough Council',\n",
    "'Gwynedd Council',\n",
    "'Hambleton District Council',\n",
    "'Hounslow London Borough Council',\n",
    "'Isles of Scilly Council',\n",
    "'Leicester City Council',\n",
    "'Richmondshire District Council',\n",
    "'Rotherham M.B.C',\n",
    "'Royal Borough Of Greenwich',\n",
    "'Selby District Council',\n",
    " 'South Lakeland District Council',\n",
    "'Stroud District Council',\n",
    "'Tameside Metropolitan Borough Council',\n",
    "'Three Rivers District Council',\n",
    "'Vale of Glamorgan Council',\n",
    "'Waverley Borough Council',\n",
    "'Welwyn Hatfield District Council',\n",
    "'West Berkshire Council',\n",
    "]\n",
    "\n",
    "columns = ['LA_name','PDF_name','LA_path'] \n",
    "root='D:\\Phoenix\\LA Data From Phoenix'\n",
    "df_LA = pd.DataFrame(columns = columns)\n",
    "for idx,item in enumerate(tabular_LA):\n",
    "    root_paths = os.path.join(root,item)\n",
    "    # print(root_paths)\n",
    "    everything = list(os.walk(root_paths, topdown=True))\n",
    "    try:\n",
    "        temp_df = get_specific_LA_DataFrame(root=root_paths)\n",
    "        df_LA = pd.concat([df_LA,temp_df],ignore_index=True)\n",
    "    except:\n",
    "        # print(idx)\n",
    "        pass\n",
    "df_LA"
   ]
  },
  {
   "cell_type": "code",
   "execution_count": 100,
   "id": "9727d02d-a91e-4b89-ad27-d9238089e6c2",
   "metadata": {
    "tags": []
   },
   "outputs": [],
   "source": [
    "#sample some pdfs \n",
    "sampled_df = df_LA.sample(n=150) # we took 200 pdf in this case "
   ]
  },
  {
   "cell_type": "code",
   "execution_count": null,
   "id": "3703b27e-e2b9-48dc-9e6e-aa201ac52fee",
   "metadata": {},
   "outputs": [],
   "source": []
  },
  {
   "cell_type": "code",
   "execution_count": 103,
   "id": "d16747ad-50cf-429e-85c0-fcfa8a865444",
   "metadata": {},
   "outputs": [
    {
     "name": "stdout",
     "output_type": "stream",
     "text": [
      "Processing pdf 150....\n"
     ]
    }
   ],
   "source": [
    "cnt = 0\n",
    "dim = (512,512)\n",
    "for idx,sample in sampled_df.iterrows():\n",
    "    cnt = cnt + 1\n",
    "    # clear_output(wait=True)\n",
    "    print(f\"Processing pdf {cnt}....\")\n",
    "    # print((sample['LA_path'],sample['LA_name'],sample['PDF_name']))\n",
    "    pdf_path =os.path.join(sample['LA_path'],sample['LA_name'],sample['PDF_name'])\n",
    "    \n",
    "    pdf_name = sample['PDF_name'].split('.')[0]\n",
    "    try:\n",
    "        doc  = fitz.open(pdf_path)\n",
    "        path_list = [root,sample['LA_name'],sample['PDF_name']]   \n",
    "        path = 'D:\\Phoenix\\LayoutClassifier\\PDFfileImages'\n",
    "        write_pdf_iamges(doc,path,pdf_name,dim = (512,512))\n",
    "    except:\n",
    "        print(idx,'broken_pdf')\n",
    "        pass"
   ]
  },
  {
   "cell_type": "code",
   "execution_count": 42,
   "id": "a638c151-93a4-450f-812f-7c2ff3c17b08",
   "metadata": {},
   "outputs": [
    {
     "name": "stdout",
     "output_type": "stream",
     "text": [
      "D:\\Phoenix\\LayoutClassifier\\PDFfileImages\\ali\n"
     ]
    }
   ],
   "source": [
    "## Get tabulated pdfs "
   ]
  },
  {
   "cell_type": "code",
   "execution_count": null,
   "id": "07505f42-116d-466f-b446-9d86aafa4cea",
   "metadata": {},
   "outputs": [],
   "source": []
  },
  {
   "cell_type": "code",
   "execution_count": null,
   "id": "cdbf035b-2c9e-4622-bc0a-37ee9fda7741",
   "metadata": {},
   "outputs": [],
   "source": []
  },
  {
   "cell_type": "code",
   "execution_count": null,
   "id": "8860b9d4-4422-4bd8-91cd-53ad75283b47",
   "metadata": {},
   "outputs": [],
   "source": []
  },
  {
   "cell_type": "code",
   "execution_count": null,
   "id": "6469f11d-7dfd-4ec4-8dcf-fc720d204409",
   "metadata": {},
   "outputs": [],
   "source": []
  },
  {
   "cell_type": "code",
   "execution_count": null,
   "id": "3d8ac170-8415-4b04-a956-b63d4c70f10d",
   "metadata": {},
   "outputs": [],
   "source": [
    "for page_num in range(odc.page_count):\n",
    "    page = doc.load_page(page_num\n",
    "    dl   = page.get_displaylist() \n",
    "    pix = dl.get_pixmap() \n",
    "    # pix   \n",
    "    pix.save(\"D:\\PDFfileImages\\page-{}.png\".format(page.number))\n",
    "    "
   ]
  },
  {
   "cell_type": "code",
   "execution_count": null,
   "id": "c9688a85-3dfe-4e69-be5d-df097d8a01f4",
   "metadata": {},
   "outputs": [],
   "source": [
    "import cv2\n",
    "import numpy as np\n",
    "import matplotlib.pyplot as plt"
   ]
  },
  {
   "cell_type": "code",
   "execution_count": null,
   "id": "927e99d7-a9ec-4376-8e1c-d9f5d306ac63",
   "metadata": {},
   "outputs": [],
   "source": [
    "file = 'page-42.png'\n",
    "im1 = cv2.imread(file, 0)\n",
    "im = cv2.imread(file)\n",
    "plt.imshow(im)\n",
    "plt.axis('off')"
   ]
  },
  {
   "cell_type": "code",
   "execution_count": null,
   "id": "8643d3cd-e0d5-484a-b993-784a727799e5",
   "metadata": {},
   "outputs": [],
   "source": [
    "ret,thresh_value = cv2.threshold(im1,180,255,cv2.THRESH_BINARY_INV)"
   ]
  },
  {
   "cell_type": "code",
   "execution_count": null,
   "id": "fa265652-2bc6-48af-97e2-bbc00683ba90",
   "metadata": {},
   "outputs": [],
   "source": [
    "kernel = np.ones((5,5),np.uint8)\n",
    "dilated_value = cv2.dilate(thresh_value,kernel,iterations = 1)"
   ]
  },
  {
   "cell_type": "code",
   "execution_count": null,
   "id": "2a2fc1eb-8c64-4f6b-870f-d63e0e2df2f4",
   "metadata": {},
   "outputs": [],
   "source": [
    "contours, hierarchy = cv2.findContours(dilated_value,cv2.RETR_TREE,cv2.CHAIN_APPROX_SIMPLE)"
   ]
  },
  {
   "cell_type": "code",
   "execution_count": null,
   "id": "0f062102-f718-4425-a139-6583048ff7bf",
   "metadata": {},
   "outputs": [],
   "source": [
    "cordinates = []\n",
    "for cnt in contours:\n",
    " x,y,w,h = cv2.boundingRect(cnt)\n",
    " cordinates.append((x,y,w,h))\n",
    " #bounding the images\n",
    " if y< 50:\n",
    " \n",
    " cv2.rectangle(im,(x,y),(x+w,y+h),(0,0,255),1)"
   ]
  },
  {
   "cell_type": "code",
   "execution_count": null,
   "id": "fee524a7-64bb-4d11-bdfc-7e1b8aedf8aa",
   "metadata": {},
   "outputs": [],
   "source": [
    "cordinates = []\n",
    "for cnt in contours:\n",
    "    x,y,w,h = cv2.boundingRect(cnt)\n",
    "    cordinates.append((x,y,w,h))\n",
    " #bounding the images\n",
    "    if y< 50:\n",
    "        cv2.rectangle(im,(x,y),(x+w,y+h),(0,0,255),1)"
   ]
  },
  {
   "cell_type": "code",
   "execution_count": null,
   "id": "06ec67a4-c442-419a-b114-cc37c5464e56",
   "metadata": {},
   "outputs": [],
   "source": [
    "plt.imshow(im)\n",
    "plt.axis('off')\n",
    "cv2.namedWindow('detecttable', cv2.WINDOW_NORMAL)\n",
    "cv2.imwrite('detecttable.jpg',im)"
   ]
  }
 ],
 "metadata": {
  "kernelspec": {
   "display_name": "PDFprocessor",
   "language": "python",
   "name": "python3"
  },
  "language_info": {
   "codemirror_mode": {
    "name": "ipython",
    "version": 3
   },
   "file_extension": ".py",
   "mimetype": "text/x-python",
   "name": "python",
   "nbconvert_exporter": "python",
   "pygments_lexer": "ipython3",
   "version": "3.10.8 | packaged by conda-forge | (main, Nov  4 2022, 13:42:51) [MSC v.1916 64 bit (AMD64)]"
  },
  "vscode": {
   "interpreter": {
    "hash": "3198639205a59986fb10b9b92445be40a4b7c0ad1c630a81a3bd417444ec3644"
   }
  }
 },
 "nbformat": 4,
 "nbformat_minor": 5
}
