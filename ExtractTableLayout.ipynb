{
 "cells": [
  {
   "cell_type": "markdown",
   "id": "6500b917-9468-4693-85ec-039953ae18bf",
   "metadata": {},
   "source": [
    "# Packe installation"
   ]
  },
  {
   "cell_type": "code",
   "execution_count": 1,
   "id": "f58bdc18",
   "metadata": {},
   "outputs": [
    {
     "name": "stdout",
     "output_type": "stream",
     "text": [
      "hi 10\n"
     ]
    }
   ],
   "source": [
    "from models.models import test\n",
    "a = 10\n",
    "test(a)"
   ]
  },
  {
   "cell_type": "code",
   "execution_count": 7,
   "id": "ee4d87e1-39ba-4d4e-8522-c7cdbb885b86",
   "metadata": {},
   "outputs": [
    {
     "name": "stdout",
     "output_type": "stream",
     "text": [
      "Requirement already satisfied: pillow in c:\\users\\ali.nadian\\.conda\\envs\\pdfprocessor\\lib\\site-packages (9.3.0)\n",
      "Note: you may need to restart the kernel to use updated packages.\n"
     ]
    }
   ],
   "source": [
    "pip install pillow"
   ]
  },
  {
   "cell_type": "code",
   "execution_count": 27,
   "id": "96ae4784-b387-42e4-b265-2c0f8d27f76e",
   "metadata": {
    "collapsed": true,
    "jupyter": {
     "outputs_hidden": true
    },
    "tags": []
   },
   "outputs": [
    {
     "name": "stdout",
     "output_type": "stream",
     "text": [
      "Collecting ipyplot\n",
      "  Downloading ipyplot-1.1.1-py3-none-any.whl (13 kB)\n",
      "Requirement already satisfied: IPython in c:\\users\\me\\miniconda3\\envs\\pdfprocessor\\lib\\site-packages (from ipyplot) (8.5.0)\n",
      "Requirement already satisfied: numpy in c:\\users\\me\\miniconda3\\envs\\pdfprocessor\\lib\\site-packages (from ipyplot) (1.23.4)\n",
      "Requirement already satisfied: pillow in c:\\users\\me\\miniconda3\\envs\\pdfprocessor\\lib\\site-packages (from ipyplot) (9.2.0)\n",
      "Collecting shortuuid\n",
      "  Downloading shortuuid-1.0.9-py3-none-any.whl (9.4 kB)\n",
      "Requirement already satisfied: backcall in c:\\users\\me\\miniconda3\\envs\\pdfprocessor\\lib\\site-packages (from IPython->ipyplot) (0.2.0)\n",
      "Requirement already satisfied: decorator in c:\\users\\me\\miniconda3\\envs\\pdfprocessor\\lib\\site-packages (from IPython->ipyplot) (5.1.1)\n",
      "Requirement already satisfied: jedi>=0.16 in c:\\users\\me\\miniconda3\\envs\\pdfprocessor\\lib\\site-packages (from IPython->ipyplot) (0.18.1)\n",
      "Requirement already satisfied: matplotlib-inline in c:\\users\\me\\miniconda3\\envs\\pdfprocessor\\lib\\site-packages (from IPython->ipyplot) (0.1.6)\n",
      "Requirement already satisfied: pickleshare in c:\\users\\me\\miniconda3\\envs\\pdfprocessor\\lib\\site-packages (from IPython->ipyplot) (0.7.5)\n",
      "Requirement already satisfied: prompt-toolkit<3.1.0,>3.0.1 in c:\\users\\me\\miniconda3\\envs\\pdfprocessor\\lib\\site-packages (from IPython->ipyplot) (3.0.31)\n",
      "Requirement already satisfied: pygments>=2.4.0 in c:\\users\\me\\miniconda3\\envs\\pdfprocessor\\lib\\site-packages (from IPython->ipyplot) (2.13.0)\n",
      "Requirement already satisfied: stack-data in c:\\users\\me\\miniconda3\\envs\\pdfprocessor\\lib\\site-packages (from IPython->ipyplot) (0.5.1)\n",
      "Requirement already satisfied: traitlets>=5 in c:\\users\\me\\miniconda3\\envs\\pdfprocessor\\lib\\site-packages (from IPython->ipyplot) (5.5.0)\n",
      "Requirement already satisfied: colorama in c:\\users\\me\\miniconda3\\envs\\pdfprocessor\\lib\\site-packages (from IPython->ipyplot) (0.4.6)\n",
      "Requirement already satisfied: parso<0.9.0,>=0.8.0 in c:\\users\\me\\miniconda3\\envs\\pdfprocessor\\lib\\site-packages (from jedi>=0.16->IPython->ipyplot) (0.8.3)\n",
      "Requirement already satisfied: wcwidth in c:\\users\\me\\miniconda3\\envs\\pdfprocessor\\lib\\site-packages (from prompt-toolkit<3.1.0,>3.0.1->IPython->ipyplot) (0.2.5)\n",
      "Requirement already satisfied: executing in c:\\users\\me\\miniconda3\\envs\\pdfprocessor\\lib\\site-packages (from stack-data->IPython->ipyplot) (1.1.1)\n",
      "Requirement already satisfied: asttokens in c:\\users\\me\\miniconda3\\envs\\pdfprocessor\\lib\\site-packages (from stack-data->IPython->ipyplot) (2.0.8)\n",
      "Requirement already satisfied: pure-eval in c:\\users\\me\\miniconda3\\envs\\pdfprocessor\\lib\\site-packages (from stack-data->IPython->ipyplot) (0.2.2)\n",
      "Requirement already satisfied: six in c:\\users\\me\\miniconda3\\envs\\pdfprocessor\\lib\\site-packages (from asttokens->stack-data->IPython->ipyplot) (1.16.0)\n",
      "Installing collected packages: shortuuid, ipyplot\n",
      "Successfully installed ipyplot-1.1.1 shortuuid-1.0.9\n",
      "Note: you may need to restart the kernel to use updated packages.\n"
     ]
    }
   ],
   "source": [
    "pip install ipyplot\n"
   ]
  },
  {
   "cell_type": "code",
   "execution_count": 9,
   "id": "d885da63-0b87-4987-b73d-c4897428871d",
   "metadata": {
    "collapsed": true,
    "jupyter": {
     "outputs_hidden": true
    },
    "tags": []
   },
   "outputs": [
    {
     "name": "stdout",
     "output_type": "stream",
     "text": [
      "Collecting openpyxl\n",
      "  Downloading openpyxl-3.0.10-py2.py3-none-any.whl (242 kB)\n",
      "     -------------------------------------- 242.1/242.1 kB 7.5 MB/s eta 0:00:00\n",
      "Collecting et-xmlfile\n",
      "  Downloading et_xmlfile-1.1.0-py3-none-any.whl (4.7 kB)\n",
      "Installing collected packages: et-xmlfile, openpyxl\n",
      "Successfully installed et-xmlfile-1.1.0 openpyxl-3.0.10\n",
      "Note: you may need to restart the kernel to use updated packages.\n"
     ]
    }
   ],
   "source": [
    "pip install openpyxl"
   ]
  },
  {
   "cell_type": "code",
   "execution_count": 17,
   "id": "06928f17-2dc4-49f4-bf6e-6d3df98f03bf",
   "metadata": {
    "collapsed": true,
    "jupyter": {
     "outputs_hidden": true
    },
    "tags": []
   },
   "outputs": [
    {
     "name": "stdout",
     "output_type": "stream",
     "text": [
      "Requirement already satisfied: setuptools in c:\\users\\ali.nadian\\.conda\\envs\\pdfprocessor\\lib\\site-packages (65.5.0)\n",
      "Collecting setuptools\n",
      "  Downloading setuptools-65.6.0-py3-none-any.whl (1.2 MB)\n",
      "     ---------------------------------------- 1.2/1.2 MB 7.8 MB/s eta 0:00:00\n",
      "Installing collected packages: setuptools\n",
      "  Attempting uninstall: setuptools\n",
      "    Found existing installation: setuptools 65.5.0\n",
      "    Uninstalling setuptools-65.5.0:\n",
      "      Successfully uninstalled setuptools-65.5.0\n",
      "Successfully installed setuptools-65.6.0\n",
      "Note: you may need to restart the kernel to use updated packages.\n"
     ]
    }
   ],
   "source": [
    "pip install --upgrade setuptools"
   ]
  },
  {
   "cell_type": "code",
   "execution_count": 2,
   "id": "c6e3512f-3d07-4c44-896c-4532ce66f585",
   "metadata": {},
   "outputs": [
    {
     "name": "stdout",
     "output_type": "stream",
     "text": [
      "Collecting distlib\n",
      "  Downloading distlib-0.3.6-py2.py3-none-any.whl (468 kB)\n",
      "     -------------------------------------- 468.5/468.5 kB 9.8 MB/s eta 0:00:00\n",
      "Installing collected packages: distlib\n",
      "Successfully installed distlib-0.3.6\n",
      "Note: you may need to restart the kernel to use updated packages.\n"
     ]
    }
   ],
   "source": [
    "pip install --upgrade distlib"
   ]
  },
  {
   "cell_type": "markdown",
   "id": "50fea7b1-c270-4611-8d44-9edf46d52e46",
   "metadata": {},
   "source": [
    "## Imports "
   ]
  },
  {
   "cell_type": "markdown",
   "id": "a65cb8f2-fd01-4e72-8d3d-1a38f7dbac19",
   "metadata": {},
   "source": [
    "### global"
   ]
  },
  {
   "cell_type": "code",
   "execution_count": 2,
   "id": "0afff8ae-297b-491e-80b7-a65ed8202a1c",
   "metadata": {},
   "outputs": [
    {
     "ename": "ModuleNotFoundError",
     "evalue": "No module named 'pdfminer'",
     "output_type": "error",
     "traceback": [
      "\u001b[1;31m---------------------------------------------------------------------------\u001b[0m",
      "\u001b[1;31mModuleNotFoundError\u001b[0m                       Traceback (most recent call last)",
      "Cell \u001b[1;32mIn[2], line 1\u001b[0m\n\u001b[1;32m----> 1\u001b[0m \u001b[39mfrom\u001b[39;00m \u001b[39mpdfminer\u001b[39;00m\u001b[39m.\u001b[39;00m\u001b[39mlayout\u001b[39;00m    \u001b[39mimport\u001b[39;00m LAParams\u001b[39m#, LTTextBox\u001b[39;00m\n\u001b[0;32m      2\u001b[0m \u001b[39mfrom\u001b[39;00m \u001b[39mpdfminer\u001b[39;00m\u001b[39m.\u001b[39;00m\u001b[39mpdfpage\u001b[39;00m   \u001b[39mimport\u001b[39;00m PDFPage\n\u001b[0;32m      3\u001b[0m \u001b[39mfrom\u001b[39;00m \u001b[39mpdfminer\u001b[39;00m\u001b[39m.\u001b[39;00m\u001b[39mpdfinterp\u001b[39;00m \u001b[39mimport\u001b[39;00m PDFResourceManager\n",
      "\u001b[1;31mModuleNotFoundError\u001b[0m: No module named 'pdfminer'"
     ]
    }
   ],
   "source": [
    "from pdfminer.layout    import LAParams#, LTTextBox\n",
    "from pdfminer.pdfpage   import PDFPage\n",
    "from pdfminer.pdfinterp import PDFResourceManager\n",
    "from pdfminer.pdfinterp import PDFPageInterpreter\n",
    "from pdfminer.converter import PDFPageAggregator\n",
    "from pdfminer.converter import TextConverter\n",
    "from pdfminer.layout    import LTTextBoxHorizontal,LTTextLine,LTTextLineHorizontal,LTLine,LTRect,LTFigure\n",
    "from pdfminer.utils     import open_filename\n",
    "from io                 import StringIO\n",
    "import textdistance   \n",
    "import pandas as pd\n",
    "import warnings\n",
    "import pdfminer       \n",
    "import json\n",
    "from numpy import random\n",
    "import inspect\n",
    "import numpy as np\n",
    "import cv2 as cv\n",
    "import matplotlib.pyplot as plt\n",
    "import uuid"
   ]
  },
  {
   "cell_type": "markdown",
   "id": "8d5b9ee2-21ab-418b-9ec4-14105ebf3759",
   "metadata": {},
   "source": [
    "### local"
   ]
  },
  {
   "cell_type": "code",
   "execution_count": 2,
   "id": "598c1f34-320e-4171-ac46-5f78d0687df6",
   "metadata": {},
   "outputs": [],
   "source": [
    "from utils.extract_pdf_elements import pdfDF"
   ]
  },
  {
   "cell_type": "markdown",
   "id": "eb4cd56d-7c6e-4b08-a982-81369d040db2",
   "metadata": {},
   "source": [
    "## Create logger "
   ]
  },
  {
   "cell_type": "code",
   "execution_count": 3,
   "id": "fe7609fb-3feb-4eae-a42d-34303bf941a8",
   "metadata": {},
   "outputs": [],
   "source": [
    "import os\n",
    "import logging\n",
    "\n",
    "logging.shutdown()\n",
    "\n",
    "try:\n",
    "    os.remove(\"logs.log\")\n",
    "except:\n",
    "    pass\n",
    "logging.basicConfig(filename = 'logs.log',\n",
    "                    level = logging.DEBUG,\n",
    "                    format = '%(asctime)s:%(levelname)s:%(name)s:%(message)s')\n"
   ]
  },
  {
   "cell_type": "markdown",
   "id": "8b8d7a9a-12e9-4c9f-ad1f-db7e6e0c70ea",
   "metadata": {},
   "source": [
    "# Test Layout extractor"
   ]
  },
  {
   "cell_type": "markdown",
   "id": "a9623c22-2ec9-4e5e-9be5-1e41d877c2ff",
   "metadata": {},
   "source": [
    "## Get dataframe"
   ]
  },
  {
   "cell_type": "code",
   "execution_count": 3,
   "id": "b79f56c4-ca46-47a2-a14a-7efcc08b921e",
   "metadata": {},
   "outputs": [
    {
     "name": "stdout",
     "output_type": "stream",
     "text": [
      "Processing page 22....\n"
     ]
    }
   ],
   "source": [
    "columns = ['page','item','BBOX','text','size','sx','sy','ex','ey','tag','parenttag']\n",
    "pdf = 'Runnymede.pdf'\n",
    "PDF = pdfDF(pdf,columns)\n",
    "df = PDF.get_DF()"
   ]
  },
  {
   "cell_type": "code",
   "execution_count": 5,
   "id": "73bb6012-3cb6-4259-b02c-a27b30029e12",
   "metadata": {},
   "outputs": [
    {
     "data": {
      "text/html": [
       "<div>\n",
       "<style scoped>\n",
       "    .dataframe tbody tr th:only-of-type {\n",
       "        vertical-align: middle;\n",
       "    }\n",
       "\n",
       "    .dataframe tbody tr th {\n",
       "        vertical-align: top;\n",
       "    }\n",
       "\n",
       "    .dataframe thead th {\n",
       "        text-align: right;\n",
       "    }\n",
       "</style>\n",
       "<table border=\"1\" class=\"dataframe\">\n",
       "  <thead>\n",
       "    <tr style=\"text-align: right;\">\n",
       "      <th></th>\n",
       "      <th>page</th>\n",
       "      <th>item</th>\n",
       "      <th>BBOX</th>\n",
       "      <th>text</th>\n",
       "      <th>size</th>\n",
       "      <th>sx</th>\n",
       "      <th>sy</th>\n",
       "      <th>ex</th>\n",
       "      <th>ey</th>\n",
       "      <th>tag</th>\n",
       "      <th>parenttag</th>\n",
       "    </tr>\n",
       "  </thead>\n",
       "  <tbody>\n",
       "    <tr>\n",
       "      <th>0</th>\n",
       "      <td>1</td>\n",
       "      <td>LTTextBoxHorizontal</td>\n",
       "      <td>(304.25, 785.52, 546.316, 797.52)</td>\n",
       "      <td>Con29 Enquiries of Local Authority (2016)</td>\n",
       "      <td>[0, 0, 595.32, 841.92]</td>\n",
       "      <td>304.25</td>\n",
       "      <td>785.52</td>\n",
       "      <td>546.316</td>\n",
       "      <td>797.52</td>\n",
       "      <td>53830cc8-bccd-45af-b4b5-6e1ad44933d7</td>\n",
       "      <td>NaN</td>\n",
       "    </tr>\n",
       "    <tr>\n",
       "      <th>1</th>\n",
       "      <td>1</td>\n",
       "      <td>LTTextLineHorizontal</td>\n",
       "      <td>(304.25, 785.52, 546.316, 797.52)</td>\n",
       "      <td>Con29 Enquiries of Local Authority (2016)</td>\n",
       "      <td>[0, 0, 595.32, 841.92]</td>\n",
       "      <td>304.25</td>\n",
       "      <td>785.52</td>\n",
       "      <td>546.316</td>\n",
       "      <td>797.52</td>\n",
       "      <td>28d4ba34-91c7-4a35-a67b-c1f965a770d9</td>\n",
       "      <td>53830cc8-bccd-45af-b4b5-6e1ad44933d7</td>\n",
       "    </tr>\n",
       "    <tr>\n",
       "      <th>2</th>\n",
       "      <td>1</td>\n",
       "      <td>LTTextBoxHorizontal</td>\n",
       "      <td>(309.65, 739.4884000000001, 550.90888, 772.508...</td>\n",
       "      <td>Reference:     12048873 \\nUPRN: \\nSearch Site:...</td>\n",
       "      <td>[0, 0, 595.32, 841.92]</td>\n",
       "      <td>309.65</td>\n",
       "      <td>739.4884</td>\n",
       "      <td>550.90888</td>\n",
       "      <td>772.5084</td>\n",
       "      <td>5774bb3f-cb02-4147-8b11-060c021c5c1a</td>\n",
       "      <td>NaN</td>\n",
       "    </tr>\n",
       "    <tr>\n",
       "      <th>3</th>\n",
       "      <td>1</td>\n",
       "      <td>LTTextLineHorizontal</td>\n",
       "      <td>(309.65, 762.5484, 422.47888, 772.5083999999999)</td>\n",
       "      <td>Reference:     12048873</td>\n",
       "      <td>[0, 0, 595.32, 841.92]</td>\n",
       "      <td>309.65</td>\n",
       "      <td>762.5484</td>\n",
       "      <td>422.47888</td>\n",
       "      <td>772.5084</td>\n",
       "      <td>d75932fa-126c-45d9-9313-0a25bda107da</td>\n",
       "      <td>5774bb3f-cb02-4147-8b11-060c021c5c1a</td>\n",
       "    </tr>\n",
       "    <tr>\n",
       "      <th>4</th>\n",
       "      <td>1</td>\n",
       "      <td>LTTextLineHorizontal</td>\n",
       "      <td>(309.65, 751.0284, 343.51888, 760.9884)</td>\n",
       "      <td>UPRN:</td>\n",
       "      <td>[0, 0, 595.32, 841.92]</td>\n",
       "      <td>309.65</td>\n",
       "      <td>751.0284</td>\n",
       "      <td>343.51888</td>\n",
       "      <td>760.9884</td>\n",
       "      <td>9dd4baae-42b9-42ec-a4e9-276448b9dcc6</td>\n",
       "      <td>5774bb3f-cb02-4147-8b11-060c021c5c1a</td>\n",
       "    </tr>\n",
       "    <tr>\n",
       "      <th>5</th>\n",
       "      <td>1</td>\n",
       "      <td>LTTextLineHorizontal</td>\n",
       "      <td>(309.65, 739.4884000000001, 550.90888, 749.4484)</td>\n",
       "      <td>Search Site:  58 Preston Avenue  Alfreton DE55...</td>\n",
       "      <td>[0, 0, 595.32, 841.92]</td>\n",
       "      <td>309.65</td>\n",
       "      <td>739.4884</td>\n",
       "      <td>550.90888</td>\n",
       "      <td>749.4484</td>\n",
       "      <td>3e62e277-ef73-4f60-8ba7-f4ed66278316</td>\n",
       "      <td>5774bb3f-cb02-4147-8b11-060c021c5c1a</td>\n",
       "    </tr>\n",
       "    <tr>\n",
       "      <th>6</th>\n",
       "      <td>1</td>\n",
       "      <td>LTTextBoxHorizontal</td>\n",
       "      <td>(375.19, 751.0284, 449.95888, 760.9884)</td>\n",
       "      <td>100030007484</td>\n",
       "      <td>[0, 0, 595.32, 841.92]</td>\n",
       "      <td>375.19</td>\n",
       "      <td>751.0284</td>\n",
       "      <td>449.95888</td>\n",
       "      <td>760.9884</td>\n",
       "      <td>d3b8b9e9-4785-4278-bc73-ac773781903b</td>\n",
       "      <td>NaN</td>\n",
       "    </tr>\n",
       "    <tr>\n",
       "      <th>7</th>\n",
       "      <td>1</td>\n",
       "      <td>LTTextLineHorizontal</td>\n",
       "      <td>(375.19, 751.0284, 449.95888, 760.9884)</td>\n",
       "      <td>100030007484</td>\n",
       "      <td>[0, 0, 595.32, 841.92]</td>\n",
       "      <td>375.19</td>\n",
       "      <td>751.0284</td>\n",
       "      <td>449.95888</td>\n",
       "      <td>760.9884</td>\n",
       "      <td>68be24bf-c013-4486-bf45-c256548d0964</td>\n",
       "      <td>d3b8b9e9-4785-4278-bc73-ac773781903b</td>\n",
       "    </tr>\n",
       "    <tr>\n",
       "      <th>8</th>\n",
       "      <td>1</td>\n",
       "      <td>LTTextBoxHorizontal</td>\n",
       "      <td>(304.25, 718.8484000000001, 357.07888, 728.8084)</td>\n",
       "      <td>Search No:</td>\n",
       "      <td>[0, 0, 595.32, 841.92]</td>\n",
       "      <td>304.25</td>\n",
       "      <td>718.8484</td>\n",
       "      <td>357.07888</td>\n",
       "      <td>728.8084</td>\n",
       "      <td>03b6ae9d-8d0f-4d88-9cf6-1237babf66c9</td>\n",
       "      <td>NaN</td>\n",
       "    </tr>\n",
       "    <tr>\n",
       "      <th>9</th>\n",
       "      <td>1</td>\n",
       "      <td>LTTextLineHorizontal</td>\n",
       "      <td>(304.25, 718.8484000000001, 357.07888, 728.8084)</td>\n",
       "      <td>Search No:</td>\n",
       "      <td>[0, 0, 595.32, 841.92]</td>\n",
       "      <td>304.25</td>\n",
       "      <td>718.8484</td>\n",
       "      <td>357.07888</td>\n",
       "      <td>728.8084</td>\n",
       "      <td>db1a034e-7d17-4beb-a878-611b0d2389e9</td>\n",
       "      <td>03b6ae9d-8d0f-4d88-9cf6-1237babf66c9</td>\n",
       "    </tr>\n",
       "    <tr>\n",
       "      <th>10</th>\n",
       "      <td>1</td>\n",
       "      <td>LTTextBoxHorizontal</td>\n",
       "      <td>(376.27, 718.8484000000001, 422.35888, 728.8084)</td>\n",
       "      <td>LC27400</td>\n",
       "      <td>[0, 0, 595.32, 841.92]</td>\n",
       "      <td>376.27</td>\n",
       "      <td>718.8484</td>\n",
       "      <td>422.35888</td>\n",
       "      <td>728.8084</td>\n",
       "      <td>7b7488c4-658a-4a61-9283-61f38f762bab</td>\n",
       "      <td>NaN</td>\n",
       "    </tr>\n",
       "    <tr>\n",
       "      <th>11</th>\n",
       "      <td>1</td>\n",
       "      <td>LTTextLineHorizontal</td>\n",
       "      <td>(376.27, 718.8484000000001, 422.35888, 728.8084)</td>\n",
       "      <td>LC27400</td>\n",
       "      <td>[0, 0, 595.32, 841.92]</td>\n",
       "      <td>376.27</td>\n",
       "      <td>718.8484</td>\n",
       "      <td>422.35888</td>\n",
       "      <td>728.8084</td>\n",
       "      <td>c0cf5a03-1247-4561-883f-b546258ba62d</td>\n",
       "      <td>7b7488c4-658a-4a61-9283-61f38f762bab</td>\n",
       "    </tr>\n",
       "  </tbody>\n",
       "</table>\n",
       "</div>"
      ],
      "text/plain": [
       "   page                  item  \\\n",
       "0     1   LTTextBoxHorizontal   \n",
       "1     1  LTTextLineHorizontal   \n",
       "2     1   LTTextBoxHorizontal   \n",
       "3     1  LTTextLineHorizontal   \n",
       "4     1  LTTextLineHorizontal   \n",
       "5     1  LTTextLineHorizontal   \n",
       "6     1   LTTextBoxHorizontal   \n",
       "7     1  LTTextLineHorizontal   \n",
       "8     1   LTTextBoxHorizontal   \n",
       "9     1  LTTextLineHorizontal   \n",
       "10    1   LTTextBoxHorizontal   \n",
       "11    1  LTTextLineHorizontal   \n",
       "\n",
       "                                                 BBOX  \\\n",
       "0                   (304.25, 785.52, 546.316, 797.52)   \n",
       "1                   (304.25, 785.52, 546.316, 797.52)   \n",
       "2   (309.65, 739.4884000000001, 550.90888, 772.508...   \n",
       "3    (309.65, 762.5484, 422.47888, 772.5083999999999)   \n",
       "4             (309.65, 751.0284, 343.51888, 760.9884)   \n",
       "5    (309.65, 739.4884000000001, 550.90888, 749.4484)   \n",
       "6             (375.19, 751.0284, 449.95888, 760.9884)   \n",
       "7             (375.19, 751.0284, 449.95888, 760.9884)   \n",
       "8    (304.25, 718.8484000000001, 357.07888, 728.8084)   \n",
       "9    (304.25, 718.8484000000001, 357.07888, 728.8084)   \n",
       "10   (376.27, 718.8484000000001, 422.35888, 728.8084)   \n",
       "11   (376.27, 718.8484000000001, 422.35888, 728.8084)   \n",
       "\n",
       "                                                 text                    size  \\\n",
       "0           Con29 Enquiries of Local Authority (2016)  [0, 0, 595.32, 841.92]   \n",
       "1           Con29 Enquiries of Local Authority (2016)  [0, 0, 595.32, 841.92]   \n",
       "2   Reference:     12048873 \\nUPRN: \\nSearch Site:...  [0, 0, 595.32, 841.92]   \n",
       "3                             Reference:     12048873  [0, 0, 595.32, 841.92]   \n",
       "4                                               UPRN:  [0, 0, 595.32, 841.92]   \n",
       "5   Search Site:  58 Preston Avenue  Alfreton DE55...  [0, 0, 595.32, 841.92]   \n",
       "6                                        100030007484  [0, 0, 595.32, 841.92]   \n",
       "7                                        100030007484  [0, 0, 595.32, 841.92]   \n",
       "8                                          Search No:  [0, 0, 595.32, 841.92]   \n",
       "9                                          Search No:  [0, 0, 595.32, 841.92]   \n",
       "10                                            LC27400  [0, 0, 595.32, 841.92]   \n",
       "11                                            LC27400  [0, 0, 595.32, 841.92]   \n",
       "\n",
       "        sx        sy         ex        ey  \\\n",
       "0   304.25    785.52    546.316    797.52   \n",
       "1   304.25    785.52    546.316    797.52   \n",
       "2   309.65  739.4884  550.90888  772.5084   \n",
       "3   309.65  762.5484  422.47888  772.5084   \n",
       "4   309.65  751.0284  343.51888  760.9884   \n",
       "5   309.65  739.4884  550.90888  749.4484   \n",
       "6   375.19  751.0284  449.95888  760.9884   \n",
       "7   375.19  751.0284  449.95888  760.9884   \n",
       "8   304.25  718.8484  357.07888  728.8084   \n",
       "9   304.25  718.8484  357.07888  728.8084   \n",
       "10  376.27  718.8484  422.35888  728.8084   \n",
       "11  376.27  718.8484  422.35888  728.8084   \n",
       "\n",
       "                                     tag                             parenttag  \n",
       "0   53830cc8-bccd-45af-b4b5-6e1ad44933d7                                   NaN  \n",
       "1   28d4ba34-91c7-4a35-a67b-c1f965a770d9  53830cc8-bccd-45af-b4b5-6e1ad44933d7  \n",
       "2   5774bb3f-cb02-4147-8b11-060c021c5c1a                                   NaN  \n",
       "3   d75932fa-126c-45d9-9313-0a25bda107da  5774bb3f-cb02-4147-8b11-060c021c5c1a  \n",
       "4   9dd4baae-42b9-42ec-a4e9-276448b9dcc6  5774bb3f-cb02-4147-8b11-060c021c5c1a  \n",
       "5   3e62e277-ef73-4f60-8ba7-f4ed66278316  5774bb3f-cb02-4147-8b11-060c021c5c1a  \n",
       "6   d3b8b9e9-4785-4278-bc73-ac773781903b                                   NaN  \n",
       "7   68be24bf-c013-4486-bf45-c256548d0964  d3b8b9e9-4785-4278-bc73-ac773781903b  \n",
       "8   03b6ae9d-8d0f-4d88-9cf6-1237babf66c9                                   NaN  \n",
       "9   db1a034e-7d17-4beb-a878-611b0d2389e9  03b6ae9d-8d0f-4d88-9cf6-1237babf66c9  \n",
       "10  7b7488c4-658a-4a61-9283-61f38f762bab                                   NaN  \n",
       "11  c0cf5a03-1247-4561-883f-b546258ba62d  7b7488c4-658a-4a61-9283-61f38f762bab  "
      ]
     },
     "execution_count": 5,
     "metadata": {},
     "output_type": "execute_result"
    }
   ],
   "source": [
    "#test that data frame is extracted correclty \n",
    "df.head(12)"
   ]
  },
  {
   "cell_type": "code",
   "execution_count": 4,
   "id": "3c8d10cb-3470-4efc-a882-644f0b7aa0e6",
   "metadata": {},
   "outputs": [
    {
     "name": "stdout",
     "output_type": "stream",
     "text": [
      "3.06(a) Permanent stopping up or diversion 3.06(a) Please see the Highway Replies from Surrey County Council which answers all parts of this 3.06(b) enquiry. Waiting or loading restrictions 3.06(b) Please see the Highway Replies from Surrey County Council. 3.06(c) One-way driving 3.06(c) Please see the Highway Replies from Surrey County Council. 3.06(d) Prohibition of driving 3.06(d) Please see the Highway Replies from Surrey County Council. 3.06(e) Pedestrianisation 3.06(e) Please see the Highway Replies from Surrey County Council. 3.06(f) Vehicle width or weight restriction 3.06(f) Please see the Highway Replies from Surrey County Council. 3.06(g) Traffic calming works e.g. road humps 3.06(g) Please see the Highway Replies from Surrey County Council. 3.06(h) Residents parking controls 3.06(h) Please see the Highway Replies from Surrey County Council. 3.06(i) Minor road widening or improvement 3.06(i) Please see the Highway Replies from Surrey County Council. 3.06(j) Pedestrian crossings 3.06(j) Please see the Highway Replies from Surrey County Council. 3.06(k) Cycle tracks 3.06(k) Please see the Highway Replies from Surrey County Council. 3.06(l) Bridge building 3.06(l) Please see the Highway Replies from Surrey County Council. 3.07 OUTSTANDING NOTICES Do any statutory notices which relate to the following matters subsist in relation to the property other than those revealed in a response to any other enquiry in this form? 3.07 3.07(a) building works 3.07(a) No Outstanding Notices 3.07(b) environment 3.07(b) No Outstanding Notices 3.07(c) health and safety 3.07(c) No Outstanding Notices 3.07(d) housing 3.07(d) No Outstanding Notices 3.07(e) highways 3.07(e) Please see the Highway Replies from Surrey County Council. 3.07(f) public health 3.07(f) No Outstanding Notices 3.07(g) flood and coastal erosion risk management 3.08 3.09 3.07(g) Please see the Highway Replies from Surrey County Council. CONTRAVENTION OF BUILDING REGULATIONS Has a local authority authorised in relation to the property any proceedings for the contravention of any provision contained in Building Regulations? 3.08 No NOTICES, ORDERS, DIRECTIONS AND PROCEEDINGS UNDER PLANNING ACTS Do any of the following subsist in relation to the property, or has a local authority decided to issue, serve, make or commence any of the following:- INFORMATIVE RE 3.9 3.09 Please note, Notices, Orders, Directions already registered in the Local Land Charges Register, if applicable, will not be disclosed here unless issued after 28 March 2022. Local Land Charges Runnymede Borough Council, Civic Centre, Station Road, Addlestone, KT15 2AH Page 7 of 14 02/12/2022 Search Ref: 2022/00850 Enquirer Ref:  \n"
     ]
    }
   ],
   "source": [
    "df_text = df.query(f\"page==7 and item=='LTTextLineHorizontal'\")\n",
    "text = ''\n",
    "for ix,row in df_text.iterrows():\n",
    "    # print(row['/text'])\n",
    "    text = text + row['text'] +' '\n",
    "print(text)"
   ]
  },
  {
   "cell_type": "markdown",
   "id": "7f11ec8d-d4d7-4e2f-af36-c3676b9f8786",
   "metadata": {},
   "source": [
    "## Query Functions \n",
    "lets get something from df "
   ]
  },
  {
   "cell_type": "code",
   "execution_count": 7,
   "id": "b3421bef-951b-4005-a91f-01286290875e",
   "metadata": {
    "tags": []
   },
   "outputs": [],
   "source": [
    "# Get text lines in a page \n",
    "def get_textlines_in_page(df = df, page=1):\n",
    "    df_temp = df.query(f\"page=={page} and item=='LTTextLineHorizontal'\")\n",
    "    return df_temp\n",
    "# example\n",
    "# g = get_textlines_in_page(df = df, page=2)\n",
    "# g.head(10)\n",
    "\n",
    "# Get textboxes in a page \n",
    "def get_textboxes_in_page(df = df, page=1):\n",
    "    df_temp = df.query(f\"page=={page} and item=='LTTextBoxHorizontal'\")\n",
    "    return df_temp\n",
    "\n",
    "# get lines in a page\n",
    "def get_lines_in_page(df = df, page=1):\n",
    "    df_temp = df.query(f\"page=={page} and item=='LTLine'\")\n",
    "    return df_temp\n",
    "# example\n",
    "# l = get_texlines_in_page(df = df, page=12)\n",
    "# l.head(10)\n",
    "\n",
    "#get rectangles in a page \n",
    "def get_rects_in_page(df = df, page=1):\n",
    "    df_temp = df.query(f\"page=={page} and item=='LTRect'\")\n",
    "    return df_temp"
   ]
  },
  {
   "cell_type": "markdown",
   "id": "5ea77ccd-4888-488a-8ff8-d6a3f9ab4ee2",
   "metadata": {},
   "source": [
    "# Drawings "
   ]
  },
  {
   "cell_type": "markdown",
   "id": "38953f45-42c5-4132-bcf1-225ddf397f61",
   "metadata": {},
   "source": [
    "## Test drawing"
   ]
  },
  {
   "cell_type": "code",
   "execution_count": 17,
   "id": "53492844-3a1e-4352-9d3a-c921346feaab",
   "metadata": {
    "tags": []
   },
   "outputs": [],
   "source": [
    "# img = np.zeros((842,596), np.uint8)\n",
    "# # Draw a diagonal blue line with thickness of 5 px (0, 0, 595.32, 841.92)\n",
    "\n",
    "\n",
    "# BBOX = df.iloc[0]['BBOX']\n",
    "# Size = df.iloc[0]['size']\n",
    "# # print(BBOX,Size) ####################### uncomment to see outputs \n",
    "\n",
    "# rsx = int(np.floor(BBOX[0]))\n",
    "# rsy = int(np.floor(Size[3])-np.floor(BBOX[1]))\n",
    "# rex = int(np.floor(BBOX[2]))\n",
    "# rey = int(np.floor(Size[3])-np.floor(BBOX[3]))\n",
    "# cv.rectangle(img,(rsx,rsy),(rex,rey), (255,0,0),1)\n",
    "# # plt.imshow(img) ######################## uncomment to see outputs "
   ]
  },
  {
   "cell_type": "code",
   "execution_count": 8,
   "id": "5d54744b-7604-4703-8ad0-0b1d3036c58b",
   "metadata": {
    "tags": []
   },
   "outputs": [],
   "source": [
    "def  draw(img,BBOX,Size,randomcolor:bool):\n",
    "    rsx = int(np.floor(BBOX[0]))\n",
    "    rsy = int(np.floor(Size[3])-np.floor(BBOX[1]))\n",
    "    rex = int(np.floor(BBOX[2]))\n",
    "    rey = int(np.floor(Size[3])-np.floor(BBOX[3]))\n",
    "    \n",
    "    if (randomcolor):\n",
    "        R = random.randint(20, 255)\n",
    "        G = random.randint(20, 255)\n",
    "        B = random.randint(20, 255)\n",
    "    else:\n",
    "        R = 255\n",
    "        G = 255\n",
    "        B = 255\n",
    "    # cv.rectangle(img,(rsx,rsy),(rex,rey), (red,green,0),1)\n",
    "    cv.rectangle(img,(rsx,rsy),(rex,rey), (B,G,R),1)"
   ]
  },
  {
   "cell_type": "code",
   "execution_count": 18,
   "id": "838ac99d-c0d5-42aa-8446-eced4f4410f8",
   "metadata": {
    "tags": []
   },
   "outputs": [],
   "source": [
    "# num_page = df['Page'].max()\n",
    "# print('number of page is {}'.format(num_page))\n",
    "# for p in range(num_page):\n",
    "#     page= p+1\n",
    "#     page_df= df.loc[df['Page']==page]\n",
    "#     page_size=page_df.iloc[0]['size']\n",
    "#     img = np.zeros((int(page_size[3]),int(page_size[2])), np.uint8)\n",
    "#     for row in page_df.itertuples(index=False):\n",
    "#         if (row.Item == 'LTLine') or (row.Item == 'LTRect') : \n",
    "#             # print(page)\n",
    "#             draw(img,row.BBOX,row.size,randomcolor=True)\n",
    "#     plt.figure(page)\n",
    "#     plt.title(page)\n",
    "#     plt.imshow(img)\n",
    "    \n",
    "    \n"
   ]
  },
  {
   "cell_type": "markdown",
   "id": "3c05d005-538d-4c1c-b187-066c076efb32",
   "metadata": {},
   "source": [
    "## Draw text line BBOX"
   ]
  },
  {
   "cell_type": "code",
   "execution_count": 9,
   "id": "befaea50-2c46-4ada-bb2b-06e1a1d51e8e",
   "metadata": {
    "tags": []
   },
   "outputs": [
    {
     "name": "stdout",
     "output_type": "stream",
     "text": [
      "Amber.pdf\n",
      "processed page number is 5\n"
     ]
    },
    {
     "data": {
      "image/png": "[encoded data removed]",
      "text/plain": [
       "<Figure size 640x480 with 1 Axes>"
      ]
     },
     "metadata": {},
     "output_type": "display_data"
    }
   ],
   "source": [
    "page = 5\n",
    "df_temp = get_textlines_in_page(df = df, page = page)\n",
    "if df_temp.shape[0]:\n",
    "    page_size=df_temp.iloc[0]['size']\n",
    "    img = np.zeros((int(page_size[3]),int(page_size[2])), np.uint8)\n",
    "    for row in df_temp.itertuples(index=False):\n",
    "        draw(img,row.BBOX,row.size,randomcolor=False)\n",
    "    print(pdf)\n",
    "    print(f\"processed page number is {page}\")\n",
    "    plt.axis('off')\n",
    "    plt.imshow(img)\n",
    "    plt.savefig('foo.png')\n",
    "else:\n",
    "    print('not textlines in this page')"
   ]
  },
  {
   "cell_type": "markdown",
   "id": "bf9122b3-f6b6-4133-be03-6a0ffb0071ae",
   "metadata": {},
   "source": [
    "## Draw Textbox BBOX"
   ]
  },
  {
   "cell_type": "code",
   "execution_count": 11,
   "id": "73cf10da-59f8-4b27-905f-aa2a73e6dead",
   "metadata": {},
   "outputs": [
    {
     "name": "stdout",
     "output_type": "stream",
     "text": [
      "Amber.pdf\n",
      "processed page number is 4\n"
     ]
    },
    {
     "data": {
      "image/png": "[encoded data removed]",
      "text/plain": [
       "<Figure size 640x480 with 1 Axes>"
      ]
     },
     "metadata": {},
     "output_type": "display_data"
    }
   ],
   "source": [
    "page = 4\n",
    "df_temp = get_textboxes_in_page(df = df, page = page)\n",
    "\n",
    "\n",
    "if df_temp.shape[0]:\n",
    "    page_size=df_temp.iloc[0]['size']\n",
    "    img = np.zeros((int(page_size[3]),int(page_size[2])), np.uint8)\n",
    "    for row in df_temp.itertuples(index=False):\n",
    "        draw(img,row.BBOX,row.size,randomcolor=False)\n",
    "    print(pdf)\n",
    "    print(f\"processed page number is {page}\")\n",
    "    plt.imshow(img)\n",
    "    plt.savefig('foo.png')\n",
    "else:\n",
    "    print('not textlines in this page')"
   ]
  },
  {
   "cell_type": "markdown",
   "id": "607aa0d9-4111-451d-8d46-2ab96f0ccfa5",
   "metadata": {},
   "source": [
    "## Draw  line "
   ]
  },
  {
   "cell_type": "code",
   "execution_count": 48,
   "id": "48cb4013-c44d-4474-992c-b99b4105cf21",
   "metadata": {
    "tags": []
   },
   "outputs": [
    {
     "name": "stdout",
     "output_type": "stream",
     "text": [
      "hart3.pdf\n",
      "processed page number is 2\n"
     ]
    },
    {
     "data": {
      "image/png": "[encoded data removed]",
      "text/plain": [
       "<Figure size 640x480 with 1 Axes>"
      ]
     },
     "metadata": {},
     "output_type": "display_data"
    }
   ],
   "source": [
    "page = 2\n",
    "df_temp = get_lines_in_page(df = df, page = page)\n",
    " \n",
    "if df_temp.shape[0]:\n",
    "\n",
    "    page_size=df_temp.iloc[0]['size']\n",
    "    img = np.zeros((int(page_size[3]),int(page_size[2]),3), np.uint8)\n",
    "\n",
    "    for row in df_temp.itertuples(index=False):\n",
    "        draw(img,row.BBOX,row.size,randomcolor=False)\n",
    "\n",
    "    print(pdf)\n",
    "    print(f\"processed page number is {page}\")\n",
    "    \n",
    "    plt.imshow(img[...,::-1])\n",
    "    cv.imwrite('color_img.jpg', img)\n",
    "else:\n",
    "    print('not textlines in this page')"
   ]
  },
  {
   "cell_type": "markdown",
   "id": "430dec55-bbd2-4c51-a0a7-0b20e681efa2",
   "metadata": {},
   "source": [
    "## Draw Rectangles in a page"
   ]
  },
  {
   "cell_type": "code",
   "execution_count": 40,
   "id": "56c91e90-a0b0-4802-8219-16da2adbd22d",
   "metadata": {},
   "outputs": [
    {
     "name": "stdout",
     "output_type": "stream",
     "text": [
      "processed page 2 in pdf file: hart3.pdf\n"
     ]
    },
    {
     "data": {
      "image/png": "[encoded data removed]",
      "text/plain": [
       "<Figure size 640x480 with 1 Axes>"
      ]
     },
     "metadata": {},
     "output_type": "display_data"
    }
   ],
   "source": [
    "page = 2\n",
    "df_temp = get_rects_in_page(df = df, page = page)\n",
    "\n",
    "\n",
    "if df_temp.shape[0]:\n",
    "    page_size=df_temp.iloc[0]['size']\n",
    "    img = np.zeros((int(page_size[3]),int(page_size[2]),3), np.uint8)\n",
    "    for row in df_temp.itertuples(index=False):\n",
    "        draw(img,row.BBOX,row.size,randomcolor=False)\n",
    "    print(f\"processed page {page} in pdf file: {pdf}\")\n",
    "    cv.imwrite('color_img.jpg', img)\n",
    "    plt.imshow(img[...,::-1])\n",
    "    plt.axis('off')\n",
    "else:\n",
    "    print('not textlines in this page')"
   ]
  },
  {
   "cell_type": "code",
   "execution_count": 51,
   "id": "43b60131-8cbd-4829-a18b-3adeb9989941",
   "metadata": {},
   "outputs": [
    {
     "name": "stdout",
     "output_type": "stream",
     "text": [
      "(27.900000000000002, 743.6, 563.7, 743.6)\n",
      "(563.7, 485.95000000000005, 563.7, 743.6)\n",
      "(27.900000000000002, 485.95000000000005, 563.7, 485.95000000000005)\n",
      "(27.900000000000002, 485.95000000000005, 27.900000000000002, 743.6)\n",
      "(27.3, 74.35000000000001, 563.5500000000001, 74.35000000000001)\n",
      "(33.300000000000004, 819.4000000000001, 553.5, 819.4000000000001)\n",
      "(553.5, 783.5, 553.5, 819.4000000000001)\n",
      "(33.300000000000004, 783.5, 553.5, 783.5)\n",
      "(33.300000000000004, 783.5, 33.300000000000004, 819.4000000000001)\n",
      "(33.300000000000004, 765.4000000000001, 558.3000000000001, 765.4000000000001)\n",
      "(558.3000000000001, 747.5, 558.3000000000001, 765.4000000000001)\n",
      "(33.300000000000004, 747.5, 558.3000000000001, 747.5)\n",
      "(33.300000000000004, 747.5, 33.300000000000004, 765.4000000000001)\n",
      "processed page 2 in pdf file: hart3.pdf\n",
      "------\n",
      "(33.300000000000004, 783.5, 553.5, 819.4000000000001)\n",
      "(33.300000000000004, 747.5, 558.3000000000001, 765.4000000000001)\n",
      "processed page 2 in pdf file: hart3.pdf\n"
     ]
    },
    {
     "data": {
      "text/plain": [
       "(-0.5, 594.5, 840.5, -0.5)"
      ]
     },
     "execution_count": 51,
     "metadata": {},
     "output_type": "execute_result"
    },
    {
     "data": {
      "image/png": "[encoded data removed]",
      "text/plain": [
       "<Figure size 640x480 with 1 Axes>"
      ]
     },
     "metadata": {},
     "output_type": "display_data"
    }
   ],
   "source": [
    "page = 2\n",
    "df_temp1 = get_lines_in_page(df = df, page = page)\n",
    "df_temp2 = get_rects_in_page(df = df, page = page)\n",
    "if df_temp1.shape[0]:\n",
    "    page_size=df_temp1.iloc[0]['size']\n",
    "    img = np.zeros((int(page_size[3]),int(page_size[2]),3), np.uint8)\n",
    "    for row in df_temp1.itertuples(index=False):\n",
    "        draw(img,row.BBOX,row.size,randomcolor=False)\n",
    "        print(row.BBOX)\n",
    "    print(f\"processed page {page} in pdf file: {pdf}\")\n",
    "    \n",
    "else:\n",
    "    print('not textlines in this page')\n",
    "print('------')    \n",
    "if df_temp2.shape[0]:\n",
    "    # page_size=df_temp2.iloc[0]['size']\n",
    "    # img = np.zeros((int(page_size[3]),int(page_size[2]),3), np.uint8)\n",
    "    for row in df_temp2.itertuples(index=False):\n",
    "        draw(img,row.BBOX,row.size,randomcolor=True)\n",
    "        print(row.BBOX)\n",
    "    print(f\"processed page {page} in pdf file: {pdf}\")\n",
    "    \n",
    "else:\n",
    "    print('not textlines in this page')\n",
    "    \n",
    "\n",
    "cv.imwrite('color_img.jpg', img)\n",
    "plt.imshow(img[...,::-1])\n",
    "plt.axis('off')"
   ]
  },
  {
   "cell_type": "markdown",
   "id": "bbd01682-775b-4741-ba8e-50d268ccad6e",
   "metadata": {},
   "source": [
    "# Functions"
   ]
  },
  {
   "cell_type": "markdown",
   "id": "26e190a5-04cd-438b-954f-3f09f0d23c30",
   "metadata": {},
   "source": [
    "## Extract elements function"
   ]
  },
  {
   "cell_type": "code",
   "execution_count": 1,
   "id": "02a24b18-3e1f-4b20-ba81-32e0f8afd777",
   "metadata": {},
   "outputs": [],
   "source": [
    "import numpy as np\n",
    "a = np.nan\n"
   ]
  },
  {
   "cell_type": "code",
   "execution_count": 7,
   "id": "cc867aab-4f76-4c5f-9a4d-bc502570dbc9",
   "metadata": {},
   "outputs": [
    {
     "name": "stdout",
     "output_type": "stream",
     "text": [
      "Overwriting utils/extract_pdf_elements.py\n"
     ]
    }
   ],
   "source": [
    "%%writefile utils/extract_pdf_elements.py\n",
    "\n",
    "from IPython.display import clear_output\n",
    "\n",
    "from pdfminer.layout    import LAParams#, LTTextBox\n",
    "from pdfminer.pdfpage   import PDFPage\n",
    "from pdfminer.pdfinterp import PDFResourceManager\n",
    "from pdfminer.pdfinterp import PDFPageInterpreter\n",
    "from pdfminer.converter import PDFPageAggregator\n",
    "from pdfminer.converter import TextConverter\n",
    "from pdfminer.layout    import LTTextBoxHorizontal,LTTextLine,LTTextLineHorizontal,LTLine,LTRect,LTFigure,LTImage\n",
    "from pdfminer.utils     import open_filename\n",
    "from io                 import StringIO\n",
    "from pdfminer.image import ImageWriter\n",
    "from pdfminer.high_level import extract_pages\n",
    "\n",
    "import textdistance   \n",
    "import pandas as pd\n",
    "import warnings\n",
    "import pdfminer       \n",
    "import json\n",
    "import uuid\n",
    "\n",
    "import inspect\n",
    "import numpy as np\n",
    "import cv2 as cv\n",
    "import matplotlib.pyplot as plt\n",
    "\n",
    "\n",
    "class pdfDF():   \n",
    "    def __init__(self,pdf,columns):\n",
    "        self.pdf = pdf\n",
    "        self.columns = columns\n",
    "        \n",
    "    def add_row_to_df(self,pageid,item,mediabox,text,df,tag=np.nan,parenttag=np.nan):\n",
    "#         if not tag:\n",
    "#             tag = np.nan\n",
    "#         if not childtag:\n",
    "#             childtag = np.nan\n",
    "            \n",
    "        new_row=pd.Series({    'page':pageid,\n",
    "                               'item':type(item).__name__,\n",
    "                               'BBOX':item.bbox,\n",
    "                               'text':text,\n",
    "                               'size':mediabox,\n",
    "                               'sx':item.bbox[0],\n",
    "                               'sy':item.bbox[1],\n",
    "                               'ex':item.bbox[2],\n",
    "                               'ey':item.bbox[3],\n",
    "                               'tag': tag,\n",
    "                               'parenttag': parenttag,\n",
    "                               \n",
    "                              })\n",
    "        df = pd.concat([df, new_row.to_frame().T], ignore_index=True)   \n",
    "        return df  \n",
    "        \n",
    "    def get_pages(self):\n",
    "        document = open(self.pdf, 'rb')\n",
    "        self.rsrcmgr = PDFResourceManager()\n",
    "        self.laparams = LAParams() # Set parameters for analysis.\n",
    "        self.device = PDFPageAggregator(self.rsrcmgr, laparams=self.laparams)# Create a PDF page aggregator object.\n",
    "        self.interpreter = PDFPageInterpreter(self.rsrcmgr, self.device)\n",
    "        self.pages = PDFPage.get_pages(document)\n",
    "        \n",
    "\n",
    "        \n",
    "    def get_DF(self):\n",
    "        nontext = 'nonetext'\n",
    "        self.get_pages()\n",
    "        self.df = pd.DataFrame(columns=self.columns)\n",
    "        #prcocess pages and store data in the dataframe \n",
    "        \n",
    "        for page in self.pages:\n",
    "                #process current page\n",
    "                self.interpreter.process_page(page)\n",
    "                layout = self.device.get_result()# receive the LTPage object for the page.\n",
    "                # print(  ' ---------------------------  \\n',f\"|          page {layout.pageid}          |\",'\\n ---------------------------  \\n')\n",
    "                clear_output(wait=True)\n",
    "                print(f\"Processing page {layout.pageid}....\")\n",
    "                for item in layout:\n",
    "                    if isinstance(item,LTTextBoxHorizontal):\n",
    "                        textboxid = str(uuid.uuid4())\n",
    "                        text = item.get_text().strip()\n",
    "                        text = text.encode('utf-8').decode('ascii', 'ignore')\n",
    "                        self.df = self.add_row_to_df(pageid=layout.pageid,item=item,mediabox=page.mediabox,text=text,df = self.df,tag = textboxid)\n",
    "                        for line in item:\n",
    "                                # print('      child tex lines')\n",
    "                                if isinstance(line,LTTextLineHorizontal):\n",
    "                                    # print('      child tex lines')\n",
    "                                    textlineid = str(uuid.uuid4())\n",
    "                                    text = line.get_text().strip()\n",
    "                                    text = text.encode('utf-8').decode('ascii', 'ignore')\n",
    "                                    self.df = self.add_row_to_df(pageid=layout.pageid,item=line,mediabox=page.mediabox,text=text,df = self.df,tag = textlineid, parenttag=textboxid )\n",
    "                    elif isinstance(item,LTFigure):\n",
    "                        text = nontext\n",
    "                        self.df = self.add_row_to_df(pageid=layout.pageid,item=item,mediabox=page.mediabox,text=text,df = self.df)\n",
    "                        for fig in item:\n",
    "                            if isinstance(fig,LTImage):\n",
    "                                text=nontext\n",
    "                                self.df = self.add_row_to_df(pageid=layout.pageid,item=fig,mediabox=page.mediabox,text=text,df = self.df)\n",
    "                        \n",
    "                    else:\n",
    "                        try:\n",
    "                            text = item.get_text().strip()\n",
    "                            text = text.encode('utf-8').decode('ascii', 'ignore')\n",
    "                            self.df = self.add_row_to_df(pageid=layout.pageid,item=item,mediabox=page.mediabox,text=text,df = self.df)\n",
    "\n",
    "                        except:\n",
    "                            text = nontext\n",
    "                            self.df = self.add_row_to_df(pageid=layout.pageid,item=item,mediabox=page.mediabox,text=text,df = self.df)\n",
    "        return self.df      \n",
    "\n",
    "    def get_image(layout_object):\n",
    "        if isinstance(layout_object, pdfminer.layout.LTImage):\n",
    "            return layout_object\n",
    "        if isinstance(layout_object, pdfminer.layout.LTContainer):\n",
    "            for child in layout_object:\n",
    "                return get_image(child)\n",
    "        else:\n",
    "            return None\n",
    "    \n",
    "    def get_images(self,output_dir):\n",
    "        self.get_pages()\n",
    "        for page in self.pages:\n",
    "            images = list(filter(bool, map(self.get_image(), page)))\n",
    "            iw = ImageWriter(output_dir)\n",
    "            for image in images:\n",
    "                iw.export_image(image)\n",
    "            "
   ]
  },
  {
   "cell_type": "markdown",
   "id": "1058ef76-be26-438f-916e-a792d9112c6f",
   "metadata": {},
   "source": [
    "## Using the df class "
   ]
  },
  {
   "cell_type": "code",
   "execution_count": 2,
   "id": "196b8c10-e451-4a46-82b0-5ec70f1aa161",
   "metadata": {},
   "outputs": [],
   "source": [
    "from utils.extract_pdf_elements import pdfDF"
   ]
  },
  {
   "cell_type": "code",
   "execution_count": 18,
   "id": "40612c82-7e5e-4d87-9b38-c4e918977709",
   "metadata": {},
   "outputs": [],
   "source": [
    "#create data frame columns\n",
    "\n",
    "pdf = 'hart3.pdf'"
   ]
  },
  {
   "cell_type": "markdown",
   "id": "dde09d2b-74cc-44f8-ac4d-dce5a4956a04",
   "metadata": {},
   "source": []
  },
  {
   "cell_type": "code",
   "execution_count": 4,
   "id": "a0f00e95-9152-45fe-921f-ff286e25f33b",
   "metadata": {},
   "outputs": [],
   "source": [
    "from utils.extract_pdf_elements import pdfDF\n",
    "\n",
    "pdf = 'hart3.pdf'\n",
    "PDF = pdfDF(pdf,columns)\n"
   ]
  },
  {
   "cell_type": "code",
   "execution_count": 8,
   "id": "d4f96b41-5fc8-4505-9b35-6834159a9f14",
   "metadata": {},
   "outputs": [],
   "source": [
    "df.to_excel('results.xlsx')"
   ]
  },
  {
   "cell_type": "markdown",
   "id": "4906d523-7be8-46d9-9cd4-2fb4cb212fa6",
   "metadata": {},
   "source": [
    "<hr size=\"10\" >"
   ]
  },
  {
   "cell_type": "markdown",
   "id": "45b45eb5-18ee-4c09-9e0e-a9bb6735dcc6",
   "metadata": {},
   "source": [
    "# Tests"
   ]
  },
  {
   "cell_type": "markdown",
   "id": "42693e66-73f6-4adb-9d4f-20a465206d22",
   "metadata": {},
   "source": [
    "## code for saving images in a pdf file"
   ]
  },
  {
   "cell_type": "code",
   "execution_count": 2,
   "id": "6b41c753-1b30-400e-bff4-071734dab900",
   "metadata": {},
   "outputs": [
    {
     "name": "stdout",
     "output_type": "stream",
     "text": [
      "[+] Found a total of 2 images in page 0\n",
      "[!] No images found on page 1\n",
      "[!] No images found on page 2\n",
      "[!] No images found on page 3\n",
      "[!] No images found on page 4\n",
      "[!] No images found on page 5\n",
      "[!] No images found on page 6\n",
      "[!] No images found on page 7\n",
      "[!] No images found on page 8\n",
      "[!] No images found on page 9\n",
      "[!] No images found on page 10\n",
      "[!] No images found on page 11\n",
      "[!] No images found on page 12\n",
      "[!] No images found on page 13\n",
      "[!] No images found on page 14\n",
      "[!] No images found on page 15\n",
      "[!] No images found on page 16\n",
      "[!] No images found on page 17\n",
      "[!] No images found on page 18\n",
      "[!] No images found on page 19\n",
      "[!] No images found on page 20\n",
      "[!] No images found on page 21\n",
      "[!] No images found on page 22\n",
      "[!] No images found on page 23\n",
      "[!] No images found on page 24\n",
      "[!] No images found on page 25\n",
      "[!] No images found on page 26\n",
      "[!] No images found on page 27\n",
      "[!] No images found on page 28\n",
      "[!] No images found on page 29\n",
      "[!] No images found on page 30\n",
      "[!] No images found on page 31\n",
      "[!] No images found on page 32\n",
      "[!] No images found on page 33\n",
      "[!] No images found on page 34\n",
      "[!] No images found on page 35\n",
      "[!] No images found on page 36\n",
      "[!] No images found on page 37\n",
      "[!] No images found on page 38\n",
      "[+] Found a total of 1 images in page 39\n",
      "[+] Found a total of 1 images in page 40\n",
      "[+] Found a total of 1 images in page 41\n",
      "[+] Found a total of 1 images in page 42\n",
      "[+] Found a total of 1 images in page 43\n"
     ]
    }
   ],
   "source": [
    "# STEP 1\n",
    "# import libraries\n",
    "import fitz # PyMuPDF\n",
    "import io\n",
    "from PIL import Image\n",
    "\n",
    "# STEP 2\n",
    "# file path you want to extract images from\n",
    "file = 'hart3.pdf'\n",
    "\n",
    "# open the file\n",
    "pdf_file = fitz.open(file)\n",
    "\n",
    "# STEP 3\n",
    "# iterate over PDF pages\n",
    "for page_index in range(len(pdf_file)):\n",
    "    # get the page itself\n",
    "    page = pdf_file[page_index]\n",
    "    # get image list\n",
    "    image_list = page.get_images()\n",
    "    # printing number of images found in this page\n",
    "    if image_list:\n",
    "        print(f\"[+] Found a total of {len(image_list)} images in page {page_index}\")\n",
    "    else:\n",
    "        print(\"[!] No images found on page\", page_index)\n",
    "    for image_index, img in enumerate(image_list, start=1):\n",
    "        # get the XREF of the image\n",
    "        xref = img[0]\n",
    "        # extract the image bytes\n",
    "        base_image = pdf_file.extract_image(xref)\n",
    "        image_bytes = base_image[\"image\"]\n",
    "        # get the image extension\n",
    "        image_ext = base_image[\"ext\"]\n",
    "        # load it to PIL\n",
    "        image = Image.open(io.BytesIO(image_bytes))\n",
    "        # save it to local disk\n",
    "        image.save(open(f\"images/image{page_index+1}_{image_index}.{image_ext}\", \"wb\"))"
   ]
  },
  {
   "cell_type": "markdown",
   "id": "62625c78-ef90-4279-9308-eee1b2158f52",
   "metadata": {},
   "source": [
    "<hr size='5'>"
   ]
  },
  {
   "cell_type": "markdown",
   "id": "3fcaf94c-d0d2-4e6a-9120-ac45baddb957",
   "metadata": {},
   "source": [
    "## Find similar iamges"
   ]
  },
  {
   "cell_type": "code",
   "execution_count": 3,
   "id": "ddcdc86e-b213-4bd2-9183-4a85ee4d0962",
   "metadata": {},
   "outputs": [
    {
     "name": "stdout",
     "output_type": "stream",
     "text": [
      "Collecting sewar\n",
      "  Downloading sewar-0.4.5.tar.gz (11 kB)\n",
      "  Preparing metadata (setup.py): started\n",
      "  Preparing metadata (setup.py): finished with status 'done'\n",
      "Requirement already satisfied: numpy in c:\\users\\ali.nadian\\.conda\\envs\\pdfprocessor\\lib\\site-packages (from sewar) (1.23.4)\n",
      "Collecting scipy\n",
      "  Downloading scipy-1.9.3-cp310-cp310-win_amd64.whl (40.1 MB)\n",
      "     ---------------------------------------- 40.1/40.1 MB 9.5 MB/s eta 0:00:00\n",
      "Requirement already satisfied: Pillow in c:\\users\\ali.nadian\\.conda\\envs\\pdfprocessor\\lib\\site-packages (from sewar) (9.3.0)\n",
      "Building wheels for collected packages: sewar\n",
      "  Building wheel for sewar (setup.py): started\n",
      "  Building wheel for sewar (setup.py): finished with status 'done'\n",
      "  Created wheel for sewar: filename=sewar-0.4.5-py3-none-any.whl size=10583 sha256=24f72ecc3b4e1c231fc825035fd967b3fca08d0ff1842af54efe522e893cdaea\n",
      "  Stored in directory: c:\\users\\ali.nadian\\appdata\\local\\pip\\cache\\wheels\\06\\71\\a0\\ce363fc3bc7374b69963c517c1f570358f46e881cee13ae5b6\n",
      "Successfully built sewar\n",
      "Installing collected packages: scipy, sewar\n",
      "Successfully installed scipy-1.9.3 sewar-0.4.5\n",
      "Note: you may need to restart the kernel to use updated packages.\n"
     ]
    }
   ],
   "source": [
    "pip install sewar"
   ]
  },
  {
   "cell_type": "code",
   "execution_count": 3,
   "id": "303f0805-484a-4864-9c49-d54b0b562489",
   "metadata": {},
   "outputs": [],
   "source": [
    "from sewar.full_ref import mse, rmse, psnr, uqi, ssim, ergas, scc, rase, sam, msssim, vifp"
   ]
  },
  {
   "cell_type": "code",
   "execution_count": 4,
   "id": "4066f2f2-8d0a-4b83-8f8c-f945b68677e7",
   "metadata": {},
   "outputs": [],
   "source": [
    "# LETS SAY WE PROCESSED A PDF FILE AND ALL THE IMAGES ARE STORED IN A FILE\n",
    "# NOW SOME OF THESE PICTURES ARE THE SAME IF THERE IS MORE THAN ONE\n",
    "# LETS CREATE A TABLE  AND DELETE THE ONES THAT ARE SIMILAR \n",
    "# FOR n IMAGES IN A FOLDER CREATE n*n MATRIX\n",
    "import os\n",
    "files=list(os.walk('images/'))\n",
    "# folde_name = images\n"
   ]
  },
  {
   "cell_type": "code",
   "execution_count": 85,
   "id": "2ff879aa-bba7-42b5-8181-bf8dace42b5e",
   "metadata": {},
   "outputs": [
    {
     "name": "stdout",
     "output_type": "stream",
     "text": [
      "found image\n",
      "(100, 100)\n",
      "<class 'PIL.Image.Image'>\n",
      "found image\n",
      "(100, 100)\n",
      "<class 'PIL.Image.Image'>\n"
     ]
    }
   ],
   "source": [
    "from PIL import Image\n",
    "# num_images_in_pdf = \n",
    "import numpy \n",
    "def prepare_im(im_path:str,output_size:tuple):\n",
    "    # IM = False\n",
    "    try:\n",
    "        im = Image.open(im_path).convert('L') \n",
    "        print('found image')\n",
    "        \n",
    "    except:\n",
    "        print('cant read iamge')\n",
    "\n",
    "    print(output_size)\n",
    "    print(type(im))\n",
    "    im = im.resize(output_size)\n",
    "    im = numpy.array(im)   \n",
    "    return im\n",
    "\n",
    "image_path1 = os.path.join(files[0][0],files[0][2][2])\n",
    "image_path2 = os.path.join(files[0][0],files[0][2][4])\n",
    "\n",
    "im1 = prepare_im(image_path1,output_size=(100,100))\n",
    "im2 = prepare_im(image_path2,output_size=(100,100))\n",
    "\n",
    "image_Diff = {'mse':mse(im1,im2),\n",
    "              'rmse':rmse(im1,im2),\n",
    "             }"
   ]
  },
  {
   "cell_type": "markdown",
   "id": "d9718940-6590-413e-ac44-196a1d9adfd7",
   "metadata": {},
   "source": [
    "<hr size='10'>"
   ]
  },
  {
   "cell_type": "code",
   "execution_count": 42,
   "id": "72e19b9e-318f-4f21-a0d5-8dba4b43a317",
   "metadata": {},
   "outputs": [
    {
     "data": {
      "text/plain": [
       "7649.9597"
      ]
     },
     "execution_count": 42,
     "metadata": {},
     "output_type": "execute_result"
    }
   ],
   "source": []
  },
  {
   "cell_type": "markdown",
   "id": "9a37a91c-f59d-49f5-a390-348848828f59",
   "metadata": {},
   "source": [
    "### Line processing"
   ]
  },
  {
   "cell_type": "code",
   "execution_count": 40,
   "id": "3eda0c2f-e710-4e31-8884-14442dbf97b1",
   "metadata": {},
   "outputs": [
    {
     "name": "stdout",
     "output_type": "stream",
     "text": [
      "[0 0] [1 0]\n",
      "[0. 1.]\n"
     ]
    }
   ],
   "source": [
    "p = np.array((0,0))\n",
    "q = np.array((1,0))\n",
    "\n",
    "print(p,q)\n",
    "\n",
    "pq = q-p \n",
    "pq_norm = np.linalg.norm(pq)\n",
    "pq_normal = np.array((-pq[1],pq[0]))/pq_norm\n",
    "print(pq_normal)\n",
    "\n",
    "def line"
   ]
  },
  {
   "cell_type": "code",
   "execution_count": 29,
   "id": "3b7ee6f3-5861-48d0-9ab7-735b3e617a0b",
   "metadata": {},
   "outputs": [
    {
     "data": {
      "text/plain": [
       "page                                                   12\n",
       "item                                               LTLine\n",
       "BBOX    (57.34999847, 505.20401002000006, 787.89998626...\n",
       "text                                           textisnone\n",
       "size                   [0, 0, 841.70001221, 595.45001221]\n",
       "sx                                              57.349998\n",
       "sy                                              505.20401\n",
       "ex                                             787.899986\n",
       "ey                                              505.20401\n",
       "Name: 1149, dtype: object"
      ]
     },
     "execution_count": 29,
     "metadata": {},
     "output_type": "execute_result"
    }
   ],
   "source": [
    "p = (1-t)A + tB\n",
    "q = (1-s)C + tD\n",
    "\n",
    "(1-t)A+tB = (1-s)C+sD\n",
    "t(B-A) + A = s(D-C) + c\n",
    "#remove one variable using inner product of the normal vector property \n",
    "t (B-A).(D-C) = (c-A).(D-C)\n",
    "\n",
    "t = ((C-A).(D-C))/((B-A).(D-C))\n",
    "\n",
    "if t in [0 1] then intersection point is calculated from t\n",
    "\n"
   ]
  },
  {
   "cell_type": "markdown",
   "id": "08dc4fa4-6b33-41a9-8b5a-066e552a85c4",
   "metadata": {},
   "source": [
    "### clear cell output "
   ]
  },
  {
   "cell_type": "code",
   "execution_count": 9,
   "id": "d0d0eaab-5701-46db-9fb2-04a1958abdc7",
   "metadata": {},
   "outputs": [
    {
     "name": "stdout",
     "output_type": "stream",
     "text": [
      "9\n"
     ]
    }
   ],
   "source": [
    "from IPython.display import clear_output\n",
    "\n",
    "for i in range(10):\n",
    "    clear_output(wait=True)\n",
    "    \n",
    "    print(i)"
   ]
  },
  {
   "cell_type": "code",
   "execution_count": null,
   "id": "ade70495-f679-4b37-b06b-2521d65ab05e",
   "metadata": {},
   "outputs": [],
   "source": []
  },
  {
   "cell_type": "code",
   "execution_count": null,
   "id": "09485b65-453a-4750-af0d-bfad5c81e900",
   "metadata": {},
   "outputs": [],
   "source": []
  },
  {
   "cell_type": "code",
   "execution_count": 13,
   "id": "25a02e08-bcb6-456a-a934-4c445eedde2c",
   "metadata": {},
   "outputs": [
    {
     "data": {
      "text/plain": [
       "'bef91dbf-d86e-4db4-9060-61d143fc975b'"
      ]
     },
     "execution_count": 13,
     "metadata": {},
     "output_type": "execute_result"
    }
   ],
   "source": [
    "import uuid\n",
    "A = str(uuid.uuid4())\n",
    "A"
   ]
  }
 ],
 "metadata": {
  "kernelspec": {
   "display_name": "Python 3",
   "language": "python",
   "name": "python3"
  },
  "language_info": {
   "codemirror_mode": {
    "name": "ipython",
    "version": 3
   },
   "file_extension": ".py",
   "mimetype": "text/x-python",
   "name": "python",
   "nbconvert_exporter": "python",
   "pygments_lexer": "ipython3",
   "version": "3.9.7"
  },
  "toc-autonumbering": true,
  "vscode": {
   "interpreter": {
    "hash": "c347c8f9a7ef94e4c9e03b4513be7835ed18f45b99a2a817fb579f408b867b16"
   }
  }
 },
 "nbformat": 4,
 "nbformat_minor": 5
}
